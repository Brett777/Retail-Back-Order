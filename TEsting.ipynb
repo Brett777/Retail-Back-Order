{
 "cells": [
  {
   "cell_type": "code",
   "execution_count": 17,
   "metadata": {},
   "outputs": [
    {
     "name": "stdout",
     "output_type": "stream",
     "text": [
      "Collecting jupyter_contrib_nbextensions\n",
      "  Downloading jupyter_contrib_nbextensions-0.3.3-py2.py3-none-any.whl (20.8MB)\n",
      "\u001b[K    100% |################################| 20.8MB 63kB/s  eta 0:00:01\n",
      "\u001b[?25hCollecting jupyter-contrib-core>=0.3.3 (from jupyter_contrib_nbextensions)\n",
      "  Downloading jupyter_contrib_core-0.3.3-py2.py3-none-any.whl\n",
      "Collecting lxml>=3.8.0 (from jupyter_contrib_nbextensions)\n",
      "  Downloading lxml-4.1.1-cp27-cp27mu-manylinux1_x86_64.whl (5.6MB)\n",
      "\u001b[K    100% |################################| 5.6MB 236kB/s eta 0:00:01\n",
      "\u001b[?25hCollecting jupyter-nbextensions-configurator>=0.2.8 (from jupyter_contrib_nbextensions)\n",
      "  Downloading jupyter_nbextensions_configurator-0.2.8-py2.py3-none-any.whl (465kB)\n",
      "\u001b[K    100% |################################| 471kB 3.0MB/s eta 0:00:01\n",
      "\u001b[?25hCollecting jupyter-highlight-selected-word>=0.0.10 (from jupyter_contrib_nbextensions)\n",
      "  Downloading jupyter_highlight_selected_word-0.1.0-py2.py3-none-any.whl\n",
      "Requirement already satisfied: traitlets>=4.1 in /usr/local/lib/python2.7/dist-packages (from jupyter_contrib_nbextensions)\n",
      "Requirement already satisfied: notebook>=4.0 in /usr/local/lib/python2.7/dist-packages (from jupyter_contrib_nbextensions)\n",
      "Requirement already satisfied: nbconvert>=4.2 in /usr/local/lib/python2.7/dist-packages (from jupyter_contrib_nbextensions)\n",
      "Requirement already satisfied: ipython-genutils in /usr/local/lib/python2.7/dist-packages (from jupyter_contrib_nbextensions)\n",
      "Requirement already satisfied: pyyaml in /usr/local/lib/python2.7/dist-packages (from jupyter_contrib_nbextensions)\n",
      "Collecting jupyter-latex-envs>=1.3.8 (from jupyter_contrib_nbextensions)\n",
      "  Downloading jupyter_latex_envs-1.4.0.tar.gz (793kB)\n",
      "\u001b[K    100% |################################| 798kB 1.8MB/s eta 0:00:01\n",
      "\u001b[?25hRequirement already satisfied: tornado in /usr/local/lib/python2.7/dist-packages (from jupyter_contrib_nbextensions)\n",
      "Requirement already satisfied: jupyter-core in /usr/local/lib/python2.7/dist-packages (from jupyter_contrib_nbextensions)\n",
      "Requirement already satisfied: setuptools in /usr/local/lib/python2.7/dist-packages (from jupyter-contrib-core>=0.3.3->jupyter_contrib_nbextensions)\n",
      "Requirement already satisfied: six in /usr/lib/python2.7/dist-packages (from traitlets>=4.1->jupyter_contrib_nbextensions)\n",
      "Requirement already satisfied: enum34; python_version == \"2.7\" in /usr/local/lib/python2.7/dist-packages (from traitlets>=4.1->jupyter_contrib_nbextensions)\n",
      "Requirement already satisfied: decorator in /usr/local/lib/python2.7/dist-packages (from traitlets>=4.1->jupyter_contrib_nbextensions)\n",
      "Requirement already satisfied: jinja2 in /usr/local/lib/python2.7/dist-packages (from notebook>=4.0->jupyter_contrib_nbextensions)\n",
      "Requirement already satisfied: terminado>=0.3.3; sys_platform != \"win32\" in /usr/local/lib/python2.7/dist-packages (from notebook>=4.0->jupyter_contrib_nbextensions)\n",
      "Requirement already satisfied: jupyter-client in /usr/local/lib/python2.7/dist-packages (from notebook>=4.0->jupyter_contrib_nbextensions)\n",
      "Requirement already satisfied: ipykernel in /usr/local/lib/python2.7/dist-packages (from notebook>=4.0->jupyter_contrib_nbextensions)\n",
      "Requirement already satisfied: nbformat in /usr/local/lib/python2.7/dist-packages (from notebook>=4.0->jupyter_contrib_nbextensions)\n",
      "Requirement already satisfied: pygments in /usr/local/lib/python2.7/dist-packages (from nbconvert>=4.2->jupyter_contrib_nbextensions)\n",
      "Requirement already satisfied: pandocfilters>=1.4.1 in /usr/local/lib/python2.7/dist-packages (from nbconvert>=4.2->jupyter_contrib_nbextensions)\n",
      "Requirement already satisfied: testpath in /usr/local/lib/python2.7/dist-packages (from nbconvert>=4.2->jupyter_contrib_nbextensions)\n",
      "Requirement already satisfied: entrypoints>=0.2.2 in /usr/local/lib/python2.7/dist-packages (from nbconvert>=4.2->jupyter_contrib_nbextensions)\n",
      "Requirement already satisfied: mistune>=0.7.4 in /usr/local/lib/python2.7/dist-packages (from nbconvert>=4.2->jupyter_contrib_nbextensions)\n",
      "Requirement already satisfied: bleach in /usr/local/lib/python2.7/dist-packages (from nbconvert>=4.2->jupyter_contrib_nbextensions)\n",
      "Requirement already satisfied: ipython in /usr/local/lib/python2.7/dist-packages (from jupyter-latex-envs>=1.3.8->jupyter_contrib_nbextensions)\n",
      "Requirement already satisfied: singledispatch in /usr/local/lib/python2.7/dist-packages (from tornado->jupyter_contrib_nbextensions)\n",
      "Requirement already satisfied: certifi in /usr/local/lib/python2.7/dist-packages (from tornado->jupyter_contrib_nbextensions)\n",
      "Requirement already satisfied: backports_abc>=0.4 in /usr/local/lib/python2.7/dist-packages (from tornado->jupyter_contrib_nbextensions)\n",
      "Requirement already satisfied: MarkupSafe>=0.23 in /usr/local/lib/python2.7/dist-packages (from jinja2->notebook>=4.0->jupyter_contrib_nbextensions)\n",
      "Requirement already satisfied: ptyprocess in /usr/local/lib/python2.7/dist-packages (from terminado>=0.3.3; sys_platform != \"win32\"->notebook>=4.0->jupyter_contrib_nbextensions)\n",
      "Requirement already satisfied: pyzmq>=13 in /usr/local/lib/python2.7/dist-packages (from jupyter-client->notebook>=4.0->jupyter_contrib_nbextensions)\n",
      "Requirement already satisfied: python-dateutil>=2.1 in /usr/local/lib/python2.7/dist-packages (from jupyter-client->notebook>=4.0->jupyter_contrib_nbextensions)\n",
      "Requirement already satisfied: jsonschema!=2.5.0,>=2.4 in /usr/local/lib/python2.7/dist-packages (from nbformat->notebook>=4.0->jupyter_contrib_nbextensions)\n",
      "Requirement already satisfied: configparser>=3.5; python_version == \"2.7\" in /usr/local/lib/python2.7/dist-packages (from entrypoints>=0.2.2->nbconvert>=4.2->jupyter_contrib_nbextensions)\n",
      "Requirement already satisfied: html5lib!=1.0b1,!=1.0b2,!=1.0b3,!=1.0b4,!=1.0b5,!=1.0b6,!=1.0b7,!=1.0b8,>=0.99999999pre in /usr/local/lib/python2.7/dist-packages (from bleach->nbconvert>=4.2->jupyter_contrib_nbextensions)\n",
      "Requirement already satisfied: prompt-toolkit<2.0.0,>=1.0.4 in /usr/local/lib/python2.7/dist-packages (from ipython->jupyter-latex-envs>=1.3.8->jupyter_contrib_nbextensions)\n",
      "Requirement already satisfied: backports.shutil-get-terminal-size; python_version == \"2.7\" in /usr/local/lib/python2.7/dist-packages (from ipython->jupyter-latex-envs>=1.3.8->jupyter_contrib_nbextensions)\n",
      "Requirement already satisfied: pickleshare in /usr/local/lib/python2.7/dist-packages (from ipython->jupyter-latex-envs>=1.3.8->jupyter_contrib_nbextensions)\n",
      "Requirement already satisfied: pexpect; sys_platform != \"win32\" in /usr/local/lib/python2.7/dist-packages (from ipython->jupyter-latex-envs>=1.3.8->jupyter_contrib_nbextensions)\n",
      "Requirement already satisfied: pathlib2; python_version == \"2.7\" or python_version == \"3.3\" in /usr/local/lib/python2.7/dist-packages (from ipython->jupyter-latex-envs>=1.3.8->jupyter_contrib_nbextensions)\n",
      "Requirement already satisfied: simplegeneric>0.8 in /usr/local/lib/python2.7/dist-packages (from ipython->jupyter-latex-envs>=1.3.8->jupyter_contrib_nbextensions)\n",
      "Requirement already satisfied: functools32; python_version == \"2.7\" in /usr/local/lib/python2.7/dist-packages (from jsonschema!=2.5.0,>=2.4->nbformat->notebook>=4.0->jupyter_contrib_nbextensions)\n",
      "Requirement already satisfied: webencodings in /usr/local/lib/python2.7/dist-packages (from html5lib!=1.0b1,!=1.0b2,!=1.0b3,!=1.0b4,!=1.0b5,!=1.0b6,!=1.0b7,!=1.0b8,>=0.99999999pre->bleach->nbconvert>=4.2->jupyter_contrib_nbextensions)\n",
      "Requirement already satisfied: wcwidth in /usr/local/lib/python2.7/dist-packages (from prompt-toolkit<2.0.0,>=1.0.4->ipython->jupyter-latex-envs>=1.3.8->jupyter_contrib_nbextensions)\n",
      "Requirement already satisfied: scandir; python_version < \"3.5\" in /usr/local/lib/python2.7/dist-packages (from pathlib2; python_version == \"2.7\" or python_version == \"3.3\"->ipython->jupyter-latex-envs>=1.3.8->jupyter_contrib_nbextensions)\n",
      "Building wheels for collected packages: jupyter-latex-envs\n",
      "  Running setup.py bdist_wheel for jupyter-latex-envs ... \u001b[?25ldone\n",
      "\u001b[?25h  Stored in directory: /home/datascience/.cache/pip/wheels/49/84/69/b36b604a959aeca9ae76d9038a7356c100a57ce9eeefbda6bf\n",
      "Successfully built jupyter-latex-envs\n",
      "Installing collected packages: jupyter-contrib-core, lxml, jupyter-nbextensions-configurator, jupyter-highlight-selected-word, jupyter-latex-envs, jupyter-contrib-nbextensions\n"
     ]
    },
    {
     "name": "stdout",
     "output_type": "stream",
     "text": [
      "Successfully installed jupyter-contrib-core-0.3.3 jupyter-contrib-nbextensions-0.3.3 jupyter-highlight-selected-word-0.1.0 jupyter-latex-envs-1.4.0 jupyter-nbextensions-configurator-0.2.8 lxml-4.1.1\r\n"
     ]
    }
   ],
   "source": [
    "!pip install jupyter_contrib_nbextensions"
   ]
  },
  {
   "cell_type": "code",
   "execution_count": 21,
   "metadata": {},
   "outputs": [
    {
     "name": "stdout",
     "output_type": "stream",
     "text": [
      "Enabling notebook extension codefolding/main...\r\n",
      "      - Validating: problems found:\r\n",
      "        - require? \u001b[31m X\u001b[0m codefolding/main\r\n"
     ]
    }
   ],
   "source": [
    "!jupyter nbextension enable codefolding/main"
   ]
  },
  {
   "cell_type": "code",
   "execution_count": 1,
   "metadata": {},
   "outputs": [],
   "source": [
    "def afun(paramter):\n",
    "    \"\"\"\n",
    "    test\n",
    "    \"\"\"\n",
    "    return \"Worked\"\n"
   ]
  }
 ],
 "metadata": {
  "kernelspec": {
   "display_name": "Python 2",
   "language": "python",
   "name": "python2"
  },
  "language_info": {
   "codemirror_mode": {
    "name": "ipython",
    "version": 2
   },
   "file_extension": ".py",
   "mimetype": "text/x-python",
   "name": "python",
   "nbconvert_exporter": "python",
   "pygments_lexer": "ipython2",
   "version": "2.7.9"
  }
 },
 "nbformat": 4,
 "nbformat_minor": 2
}
