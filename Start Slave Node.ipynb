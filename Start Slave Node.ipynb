{
 "cells": [
  {
   "cell_type": "markdown",
   "metadata": {},
   "source": [
    "# Start Spark "
   ]
  },
  {
   "cell_type": "markdown",
   "metadata": {},
   "source": [
    "### Get current hostname and IP"
   ]
  },
  {
   "cell_type": "code",
   "execution_count": 1,
   "metadata": {},
   "outputs": [
    {
     "name": "stdout",
     "output_type": "stream",
     "text": [
      "Your Computer Name is:bc7e3196a327\n",
      "Your Computer IP Address is:172.17.0.21\n"
     ]
    }
   ],
   "source": [
    "import os\n",
    "import socket   \n",
    "hostname=socket.gethostname()   \n",
    "IPAddr=socket.gethostbyname(hostname)   \n",
    "print(\"Your Computer Name is:\"+hostname)   \n",
    "print(\"Your Computer IP Address is:\"+IPAddr) "
   ]
  },
  {
   "cell_type": "markdown",
   "metadata": {},
   "source": [
    "### Start a Slave Node"
   ]
  },
  {
   "cell_type": "code",
   "execution_count": 5,
   "metadata": {
    "scrolled": true
   },
   "outputs": [
    {
     "name": "stdout",
     "output_type": "stream",
     "text": [
      "starting org.apache.spark.deploy.worker.Worker, logging to /etc/datascience/build/spark-2.1.1-bin-hadoop2.7/logs/spark-root-org.apache.spark.deploy.worker.Worker-1-bc7e3196a327.out\r\n"
     ]
    }
   ],
   "source": [
    "os.chdir(\"/etc/datascience/build/spark-2.1.1-bin-hadoop2.7/sbin/\")\n",
    "!sudo ./start-slave.sh 172.17.0.20:7077"
   ]
  },
  {
   "cell_type": "markdown",
   "metadata": {},
   "source": [
    "### Check to make sure it's online"
   ]
  },
  {
   "cell_type": "code",
   "execution_count": 6,
   "metadata": {},
   "outputs": [
    {
     "name": "stdout",
     "output_type": "stream",
     "text": [
      "Spark Command: /usr/lib/jvm/java-7-openjdk-amd64/jre/bin/java -cp /etc/datascience/build/spark-2.1.1-bin-hadoop2.7/conf/:/etc/datascience/build/spark-2.1.1-bin-hadoop2.7/jars/* -Xmx1g -XX:MaxPermSize=256m org.apache.spark.deploy.worker.Worker --webui-port 8081 172.17.0.20:7077\n",
      "========================================\n",
      "Using Spark's default log4j profile: org/apache/spark/log4j-defaults.properties\n",
      "17/11/22 20:53:27 INFO Worker: Started daemon with process name: 513@bc7e3196a327\n",
      "17/11/22 20:53:27 INFO SignalUtils: Registered signal handler for TERM\n",
      "17/11/22 20:53:27 INFO SignalUtils: Registered signal handler for HUP\n",
      "17/11/22 20:53:27 INFO SignalUtils: Registered signal handler for INT\n",
      "17/11/22 20:53:28 WARN NativeCodeLoader: Unable to load native-hadoop library for your platform... using builtin-java classes where applicable\n",
      "17/11/22 20:53:28 INFO SecurityManager: Changing view acls to: root\n",
      "17/11/22 20:53:28 INFO SecurityManager: Changing modify acls to: root\n",
      "17/11/22 20:53:28 INFO SecurityManager: Changing view acls groups to: \n",
      "17/11/22 20:53:28 INFO SecurityManager: Changing modify acls groups to: \n",
      "17/11/22 20:53:28 INFO SecurityManager: SecurityManager: authentication disabled; ui acls disabled; users  with view permissions: Set(root); groups with view permissions: Set(); users  with modify permissions: Set(root); groups with modify permissions: Set()\n",
      "17/11/22 20:53:29 INFO Utils: Successfully started service 'sparkWorker' on port 36537.\n",
      "17/11/22 20:53:29 INFO Worker: Starting Spark worker 172.17.0.21:36537 with 16 cores, 61.9 GB RAM\n",
      "17/11/22 20:53:29 INFO Worker: Running Spark version 2.1.1\n",
      "17/11/22 20:53:29 INFO Worker: Spark home: /etc/datascience/build/spark-2.1.1-bin-hadoop2.7\n",
      "17/11/22 20:53:29 INFO Utils: Successfully started service 'WorkerUI' on port 8081.\n",
      "17/11/22 20:53:29 INFO WorkerWebUI: Bound WorkerWebUI to 0.0.0.0, and started at http://172.17.0.21:8081\n",
      "17/11/22 20:53:29 INFO Worker: Connecting to master 172.17.0.20:7077...\n",
      "17/11/22 20:53:29 INFO TransportClientFactory: Successfully created connection to /172.17.0.20:7077 after 83 ms (0 ms spent in bootstraps)\n",
      "17/11/22 20:53:29 INFO Worker: Successfully registered with master spark://48429e98cee3:7077\n",
      "\n"
     ]
    }
   ],
   "source": [
    "os.chdir(\"/etc/datascience/build/spark-2.1.1-bin-hadoop2.7/logs/\")\n",
    "log = open(\"spark-root-org.apache.spark.deploy.worker.Worker-1-bc7e3196a327.out\")\n",
    "\n",
    "message = log.read()\n",
    "print(message)\n",
    "log.close()"
   ]
  }
 ],
 "metadata": {
  "kernelspec": {
   "display_name": "Python 2",
   "language": "python",
   "name": "python2"
  },
  "language_info": {
   "codemirror_mode": {
    "name": "ipython",
    "version": 2
   },
   "file_extension": ".py",
   "mimetype": "text/x-python",
   "name": "python",
   "nbconvert_exporter": "python",
   "pygments_lexer": "ipython2",
   "version": "2.7.9"
  }
 },
 "nbformat": 4,
 "nbformat_minor": 2
}
