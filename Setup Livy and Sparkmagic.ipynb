{
 "cells": [
  {
   "cell_type": "code",
   "execution_count": 3,
   "metadata": {},
   "outputs": [],
   "source": [
    "import os"
   ]
  },
  {
   "cell_type": "code",
   "execution_count": 6,
   "metadata": {},
   "outputs": [
    {
     "name": "stdout",
     "output_type": "stream",
     "text": [
      "converted 'http://apache.forsale.plus/incubator/livy/0.4.0-incubating/livy-0.4.0-incubating-bin.zip' (ANSI_X3.4-1968) -> 'http://apache.forsale.plus/incubator/livy/0.4.0-incubating/livy-0.4.0-incubating-bin.zip' (UTF-8)\n",
      "--2017-11-30 18:16:12--  http://apache.forsale.plus/incubator/livy/0.4.0-incubating/livy-0.4.0-incubating-bin.zip\n",
      "Resolving apache.forsale.plus (apache.forsale.plus)... 158.69.246.173\n",
      "Connecting to apache.forsale.plus (apache.forsale.plus)|158.69.246.173|:80... connected.\n",
      "HTTP request sent, awaiting response... 200 OK\n",
      "Length: 71578490 (68M) [application/zip]\n",
      "Saving to: 'livy-0.4.0-incubating-bin.zip'\n",
      "\n",
      "livy-0.4.0-incubati 100%[=====================>]  68.26M  1.35MB/s   in 56s    \n",
      "\n",
      "2017-11-30 18:17:09 (1.21 MB/s) - 'livy-0.4.0-incubating-bin.zip' saved [71578490/71578490]\n",
      "\n",
      "Archive:  livy-0.4.0-incubating-bin.zip\n",
      "   creating: livy-0.4.0-incubating-bin/\n",
      "  inflating: livy-0.4.0-incubating-bin/NOTICE  \n",
      "   creating: livy-0.4.0-incubating-bin/bin/\n",
      "  inflating: livy-0.4.0-incubating-bin/bin/livy-server  \n",
      "   creating: livy-0.4.0-incubating-bin/repl_2.11-jars/\n",
      "  inflating: livy-0.4.0-incubating-bin/repl_2.11-jars/livy-core_2.11-0.4.0-incubating.jar  \n",
      "  inflating: livy-0.4.0-incubating-bin/repl_2.11-jars/commons-codec-1.9.jar  \n",
      "  inflating: livy-0.4.0-incubating-bin/repl_2.11-jars/livy-repl_2.11-0.4.0-incubating.jar  \n",
      "  inflating: livy-0.4.0-incubating-bin/THIRD-PARTY  \n",
      "  inflating: livy-0.4.0-incubating-bin/DISCLAIMER  \n",
      "   creating: livy-0.4.0-incubating-bin/conf/\n",
      "  inflating: livy-0.4.0-incubating-bin/conf/log4j.properties.template  \n",
      "  inflating: livy-0.4.0-incubating-bin/conf/livy-env.sh.template  \n",
      "  inflating: livy-0.4.0-incubating-bin/conf/livy-client.conf.template  \n",
      "  inflating: livy-0.4.0-incubating-bin/conf/livy.conf.template  \n",
      "  inflating: livy-0.4.0-incubating-bin/conf/spark-blacklist.conf.template  \n",
      "   creating: livy-0.4.0-incubating-bin/repl_2.10-jars/\n",
      "  inflating: livy-0.4.0-incubating-bin/repl_2.10-jars/livy-repl_2.10-0.4.0-incubating.jar  \n",
      "  inflating: livy-0.4.0-incubating-bin/repl_2.10-jars/commons-codec-1.9.jar  \n",
      "  inflating: livy-0.4.0-incubating-bin/repl_2.10-jars/livy-core_2.10-0.4.0-incubating.jar  \n",
      "  inflating: livy-0.4.0-incubating-bin/LICENSE  \n",
      "   creating: livy-0.4.0-incubating-bin/jars/\n",
      "  inflating: livy-0.4.0-incubating-bin/jars/json4s-ast_2.10-3.2.10.jar  \n",
      "  inflating: livy-0.4.0-incubating-bin/jars/hadoop-mapreduce-client-app-2.7.3.jar  \n",
      "  inflating: livy-0.4.0-incubating-bin/jars/api-util-1.0.0-M20.jar  \n",
      "  inflating: livy-0.4.0-incubating-bin/jars/jetty-server-9.2.16.v20160414.jar  \n",
      "  inflating: livy-0.4.0-incubating-bin/jars/jetty-security-9.2.16.v20160414.jar  \n",
      "  inflating: livy-0.4.0-incubating-bin/jars/commons-math3-3.4.1.jar  \n",
      "  inflating: livy-0.4.0-incubating-bin/jars/metrics-scala_2.10-3.3.0_a2.3.jar  \n",
      "  inflating: livy-0.4.0-incubating-bin/jars/commons-io-2.4.jar  \n",
      "  inflating: livy-0.4.0-incubating-bin/jars/log4j-1.2.16.jar  \n",
      "  inflating: livy-0.4.0-incubating-bin/jars/metrics-servlets-3.1.1.jar  \n",
      "  inflating: livy-0.4.0-incubating-bin/jars/scalatra-json_2.10-2.3.0.jar  \n",
      "  inflating: livy-0.4.0-incubating-bin/jars/jackson-annotations-2.4.4.jar  \n",
      "  inflating: livy-0.4.0-incubating-bin/jars/protobuf-java-2.5.0.jar  \n",
      "  inflating: livy-0.4.0-incubating-bin/jars/hadoop-yarn-api-2.7.3.jar  \n",
      "  inflating: livy-0.4.0-incubating-bin/jars/hadoop-auth-2.7.3.jar  \n",
      "  inflating: livy-0.4.0-incubating-bin/jars/json4s-jackson_2.10-3.2.10.jar  \n",
      "  inflating: livy-0.4.0-incubating-bin/jars/hadoop-mapreduce-client-jobclient-2.7.3.jar  \n",
      "  inflating: livy-0.4.0-incubating-bin/jars/xercesImpl-2.9.1.jar  \n",
      "  inflating: livy-0.4.0-incubating-bin/jars/commons-digester-1.8.jar  \n",
      "  inflating: livy-0.4.0-incubating-bin/jars/hadoop-yarn-common-2.7.3.jar  \n",
      "  inflating: livy-0.4.0-incubating-bin/jars/apacheds-kerberos-codec-2.0.0-M15.jar  \n",
      "  inflating: livy-0.4.0-incubating-bin/jars/scala-compiler-2.10.4.jar  \n",
      "  inflating: livy-0.4.0-incubating-bin/jars/json4s-core_2.10-3.2.10.jar  \n",
      "  inflating: livy-0.4.0-incubating-bin/jars/paranamer-2.6.jar  \n",
      "  inflating: livy-0.4.0-incubating-bin/jars/hadoop-annotations-2.7.3.jar  \n",
      "  inflating: livy-0.4.0-incubating-bin/jars/jline-0.9.94.jar  \n",
      "  inflating: livy-0.4.0-incubating-bin/jars/jackson-xc-1.9.13.jar  \n",
      "  inflating: livy-0.4.0-incubating-bin/jars/jackson-jaxrs-1.9.13.jar  \n",
      "  inflating: livy-0.4.0-incubating-bin/jars/jetty-util-6.1.26.jar  \n",
      "  inflating: livy-0.4.0-incubating-bin/jars/scala-reflect-2.10.4.jar  \n",
      "  inflating: livy-0.4.0-incubating-bin/jars/hadoop-yarn-server-common-2.7.3.jar  \n",
      "  inflating: livy-0.4.0-incubating-bin/jars/curator-client-2.7.1.jar  \n",
      "  inflating: livy-0.4.0-incubating-bin/jars/jersey-client-1.9.jar  \n",
      "  inflating: livy-0.4.0-incubating-bin/jars/jersey-core-1.9.jar  \n",
      "  inflating: livy-0.4.0-incubating-bin/jars/hadoop-hdfs-2.7.3.jar  \n",
      "  inflating: livy-0.4.0-incubating-bin/jars/commons-codec-1.9.jar  \n",
      "  inflating: livy-0.4.0-incubating-bin/jars/guava-15.0.jar  \n",
      "  inflating: livy-0.4.0-incubating-bin/jars/commons-httpclient-3.1.jar  \n",
      "  inflating: livy-0.4.0-incubating-bin/jars/hadoop-mapreduce-client-common-2.7.3.jar  \n",
      "  inflating: livy-0.4.0-incubating-bin/jars/jackson-core-asl-1.9.13.jar  \n",
      "  inflating: livy-0.4.0-incubating-bin/jars/commons-logging-1.2.jar  \n",
      "  inflating: livy-0.4.0-incubating-bin/jars/hadoop-yarn-client-2.7.3.jar  \n",
      "  inflating: livy-0.4.0-incubating-bin/jars/jackson-module-scala_2.10-2.4.4.jar  \n",
      "  inflating: livy-0.4.0-incubating-bin/jars/commons-compress-1.4.1.jar  \n",
      "  inflating: livy-0.4.0-incubating-bin/jars/metrics-json-3.1.2.jar  \n",
      "  inflating: livy-0.4.0-incubating-bin/jars/metrics-jvm-3.1.2.jar  \n",
      "  inflating: livy-0.4.0-incubating-bin/jars/hadoop-common-2.7.3.jar  \n",
      "  inflating: livy-0.4.0-incubating-bin/jars/scalatra-common_2.10-2.3.0.jar  \n",
      "  inflating: livy-0.4.0-incubating-bin/jars/activation-1.1.jar  \n",
      "  inflating: livy-0.4.0-incubating-bin/jars/jsr305-2.0.1.jar  \n",
      "  inflating: livy-0.4.0-incubating-bin/jars/jaxb-api-2.2.2.jar  \n",
      "  inflating: livy-0.4.0-incubating-bin/jars/htrace-core-3.1.0-incubating.jar  \n",
      "  inflating: livy-0.4.0-incubating-bin/jars/netty-3.7.0.Final.jar  \n",
      "  inflating: livy-0.4.0-incubating-bin/jars/metrics-core-3.1.0.jar  \n",
      "  inflating: livy-0.4.0-incubating-bin/jars/jetty-http-9.2.16.v20160414.jar  \n",
      "  inflating: livy-0.4.0-incubating-bin/jars/joda-time-2.3.jar  \n",
      "  inflating: livy-0.4.0-incubating-bin/jars/commons-net-2.2.jar  \n",
      "  inflating: livy-0.4.0-incubating-bin/jars/scalap-2.10.0.jar  \n",
      "  inflating: livy-0.4.0-incubating-bin/jars/livy-server-0.4.0-incubating.jar  \n",
      "  inflating: livy-0.4.0-incubating-bin/jars/jetty-servlet-9.2.16.v20160414.jar  \n",
      "  inflating: livy-0.4.0-incubating-bin/jars/hadoop-mapreduce-client-core-2.7.3.jar  \n",
      "  inflating: livy-0.4.0-incubating-bin/jars/leveldbjni-all-1.8.jar  \n",
      "  inflating: livy-0.4.0-incubating-bin/jars/commons-collections-3.2.2.jar  \n",
      "  inflating: livy-0.4.0-incubating-bin/jars/hadoop-client-2.7.3.jar  \n",
      "  inflating: livy-0.4.0-incubating-bin/jars/javax.servlet-api-3.1.0.jar  \n",
      "  inflating: livy-0.4.0-incubating-bin/jars/api-asn1-api-1.0.0-M20.jar  \n",
      "  inflating: livy-0.4.0-incubating-bin/jars/grizzled-slf4j_2.10-1.0.2.jar  \n",
      "  inflating: livy-0.4.0-incubating-bin/jars/jsp-api-2.1.jar  \n",
      "  inflating: livy-0.4.0-incubating-bin/jars/xmlenc-0.52.jar  \n",
      "  inflating: livy-0.4.0-incubating-bin/jars/metrics-servlet-3.1.1.jar  \n",
      "  inflating: livy-0.4.0-incubating-bin/jars/livy-client-common-0.4.0-incubating.jar  \n",
      "  inflating: livy-0.4.0-incubating-bin/jars/hadoop-mapreduce-client-shuffle-2.7.3.jar  \n",
      "  inflating: livy-0.4.0-incubating-bin/jars/jackson-core-2.4.4.jar  \n",
      "  inflating: livy-0.4.0-incubating-bin/jars/netty-all-4.0.29.Final.jar  \n",
      "  inflating: livy-0.4.0-incubating-bin/jars/livy-core_2.10-0.4.0-incubating.jar  \n",
      "  inflating: livy-0.4.0-incubating-bin/jars/juniversalchardet-1.0.3.jar  \n",
      "  inflating: livy-0.4.0-incubating-bin/jars/slf4j-api-1.7.0.jar  \n",
      "  inflating: livy-0.4.0-incubating-bin/jars/jetty-util-9.2.16.v20160414.jar  \n",
      "  inflating: livy-0.4.0-incubating-bin/jars/commons-cli-1.2.jar  \n",
      "  inflating: livy-0.4.0-incubating-bin/jars/commons-beanutils-core-1.8.0.jar  \n",
      "  inflating: livy-0.4.0-incubating-bin/jars/xml-apis-1.3.04.jar  \n"
     ]
    },
    {
     "name": "stdout",
     "output_type": "stream",
     "text": [
      "  inflating: livy-0.4.0-incubating-bin/jars/snappy-java-1.1.2.1.jar  \n",
      "  inflating: livy-0.4.0-incubating-bin/jars/joda-convert-1.6.jar  \n",
      "  inflating: livy-0.4.0-incubating-bin/jars/mime-util-2.1.3.jar  \n",
      "  inflating: livy-0.4.0-incubating-bin/jars/metrics-healthchecks-3.1.0.jar  \n",
      "  inflating: livy-0.4.0-incubating-bin/jars/scalatra-metrics_2.10-2.4.0.M3.jar  \n",
      "  inflating: livy-0.4.0-incubating-bin/jars/commons-beanutils-1.7.0.jar  \n",
      "  inflating: livy-0.4.0-incubating-bin/jars/jackson-databind-2.4.4.jar  \n",
      "  inflating: livy-0.4.0-incubating-bin/jars/xz-1.0.jar  \n",
      "  inflating: livy-0.4.0-incubating-bin/jars/slf4j-log4j12-1.7.10.jar  \n",
      "  inflating: livy-0.4.0-incubating-bin/jars/curator-recipes-2.4.0.jar  \n",
      "  inflating: livy-0.4.0-incubating-bin/jars/jetty-io-9.2.16.v20160414.jar  \n",
      "  inflating: livy-0.4.0-incubating-bin/jars/avro-1.7.7.jar  \n",
      "  inflating: livy-0.4.0-incubating-bin/jars/livy-rsc-0.4.0-incubating.jar  \n",
      "  inflating: livy-0.4.0-incubating-bin/jars/stax-api-1.0-2.jar  \n",
      "  inflating: livy-0.4.0-incubating-bin/jars/commons-configuration-1.6.jar  \n",
      "  inflating: livy-0.4.0-incubating-bin/jars/kryo-2.22.jar  \n",
      "  inflating: livy-0.4.0-incubating-bin/jars/zookeeper-3.4.6.jar  \n",
      "  inflating: livy-0.4.0-incubating-bin/jars/curator-framework-2.7.1.jar  \n",
      "  inflating: livy-0.4.0-incubating-bin/jars/scala-library-2.10.4.jar  \n",
      "  inflating: livy-0.4.0-incubating-bin/jars/rl_2.10-0.4.10.jar  \n",
      "  inflating: livy-0.4.0-incubating-bin/jars/spark-launcher_2.10-1.6.2.jar  \n",
      "  inflating: livy-0.4.0-incubating-bin/jars/apacheds-i18n-2.0.0-M15.jar  \n",
      "  inflating: livy-0.4.0-incubating-bin/jars/livy-api-0.4.0-incubating.jar  \n",
      "  inflating: livy-0.4.0-incubating-bin/jars/commons-lang-2.6.jar  \n",
      "  inflating: livy-0.4.0-incubating-bin/jars/jackson-mapper-asl-1.9.13.jar  \n",
      "  inflating: livy-0.4.0-incubating-bin/jars/gson-2.2.4.jar  \n",
      "  inflating: livy-0.4.0-incubating-bin/jars/scalatra_2.10-2.3.0.jar  \n",
      "   creating: livy-0.4.0-incubating-bin/rsc-jars/\n",
      "  inflating: livy-0.4.0-incubating-bin/rsc-jars/netty-all-4.0.29.Final.jar  \n",
      "  inflating: livy-0.4.0-incubating-bin/rsc-jars/livy-rsc-0.4.0-incubating.jar  \n",
      "  inflating: livy-0.4.0-incubating-bin/rsc-jars/livy-api-0.4.0-incubating.jar  \n"
     ]
    }
   ],
   "source": [
    "!wget http://apache.forsale.plus/incubator/livy/0.4.0-incubating/livy-0.4.0-incubating-bin.zip\n",
    "!unzip livy-0.4.0-incubating-bin.zip"
   ]
  },
  {
   "cell_type": "code",
   "execution_count": 7,
   "metadata": {},
   "outputs": [],
   "source": [
    "os.environ[\"SPARK_HOME\"]=\"/etc/datascience/build/spark-2.1.1-bin-hadoop2.7\""
   ]
  },
  {
   "cell_type": "code",
   "execution_count": 36,
   "metadata": {},
   "outputs": [
    {
     "data": {
      "text/plain": [
       "'/home/datascience/livy-0.4.0-incubating-bin'"
      ]
     },
     "execution_count": 36,
     "metadata": {},
     "output_type": "execute_result"
    }
   ],
   "source": [
    "import os\n",
    "os.getcwd()"
   ]
  },
  {
   "cell_type": "code",
   "execution_count": 49,
   "metadata": {},
   "outputs": [],
   "source": [
    "os.chdir('/home/datascience/livy-0.4.0-incubating-bin/conf')"
   ]
  },
  {
   "cell_type": "code",
   "execution_count": 50,
   "metadata": {},
   "outputs": [
    {
     "name": "stdout",
     "output_type": "stream",
     "text": [
      "livy-client.conf.template  log4j.properties.template\r\n",
      "livy-env.sh.template\t   spark-blacklist.conf.template\r\n",
      "livy.conf.template\r\n"
     ]
    }
   ],
   "source": [
    "!ls"
   ]
  },
  {
   "cell_type": "code",
   "execution_count": 54,
   "metadata": {},
   "outputs": [],
   "source": [
    "os.chdir('/home/datascience/Retail-Back-Order/')"
   ]
  },
  {
   "cell_type": "code",
   "execution_count": 55,
   "metadata": {},
   "outputs": [
    {
     "name": "stdout",
     "output_type": "stream",
     "text": [
      "LICENSE    Simple PySpark Example.ipynb  Start Slave Node.ipynb  Untitled.ipynb\r\n",
      "README.md  Start Master Node.ipynb\t TEsting.ipynb\t\t livy.conf\r\n"
     ]
    }
   ],
   "source": [
    "!ls"
   ]
  },
  {
   "cell_type": "code",
   "execution_count": 59,
   "metadata": {},
   "outputs": [],
   "source": [
    "from shutil import copyfile\n",
    "\n",
    "copyfile(\"/home/datascience/livy-0.4.0-incubating-bin/conf/log4j.properties.template\", \"/home/datascience/Retail-Back-Order/log4j.properties\")"
   ]
  },
  {
   "cell_type": "code",
   "execution_count": 56,
   "metadata": {},
   "outputs": [],
   "source": [
    "copyfile(\"/home/datascience/Retail-Back-Order/livy.conf\",\"/home/datascience/livy-0.4.0-incubating-bin/conf/livy.conf.template\")"
   ]
  },
  {
   "cell_type": "code",
   "execution_count": 32,
   "metadata": {},
   "outputs": [
    {
     "name": "stdout",
     "output_type": "stream",
     "text": [
      "The sparkmagic.magics extension is already loaded. To reload it, use:\n",
      "  %reload_ext sparkmagic.magics\n"
     ]
    }
   ],
   "source": [
    "%load_ext sparkmagic.magics"
   ]
  },
  {
   "cell_type": "code",
   "execution_count": 57,
   "metadata": {},
   "outputs": [
    {
     "data": {
      "application/vnd.jupyter.widget-view+json": {
       "model_id": "988826a3e2754bcc9d2787722e19877f",
       "version_major": 2,
       "version_minor": 0
      },
      "text/html": [
       "<p>Failed to display Jupyter Widget of type <code>MagicsControllerWidget</code>.</p>\n",
       "<p>\n",
       "  If you're reading this message in the Jupyter Notebook or JupyterLab Notebook, it may mean\n",
       "  that the widgets JavaScript is still loading. If this message persists, it\n",
       "  likely means that the widgets JavaScript library is either not installed or\n",
       "  not enabled. See the <a href=\"https://ipywidgets.readthedocs.io/en/stable/user_install.html\">Jupyter\n",
       "  Widgets Documentation</a> for setup instructions.\n",
       "</p>\n",
       "<p>\n",
       "  If you're reading this message in another frontend (for example, a static\n",
       "  rendering on GitHub or <a href=\"https://nbviewer.jupyter.org/\">NBViewer</a>),\n",
       "  it may mean that your frontend doesn't currently support widgets.\n",
       "</p>\n"
      ],
      "text/plain": [
       "MagicsControllerWidget(children=(Tab(children=(ManageSessionWidget(children=(HTML(value=u'<br/>'), HTML(value=u'No sessions yet.'))), CreateSessionWidget(children=(HTML(value=u'<br/>'), Dropdown(description=u'Endpoint:', options={u'http://localhost:8998': <sparkmagic.livyclientlib.endpoint.Endpoint object at 0x7f02d808c550>, u'localhost:8998': <sparkmagic.livyclientlib.endpoint.Endpoint object at 0x7f02d83f4ad0>}, value=None), Text(value=u'session-name', description=u'Name:'), ToggleButtons(description=u'Language:', index=1, options=('scala', 'python'), value='python'), Text(value=u'{}', description=u'Properties:'), HTML(value=u'<br/>'), SubmitButton(description=u'Create Session', style=ButtonStyle()))), AddEndpointWidget(children=(HTML(value=u'<br/>'), Text(value=u'http://localhost:8998', description=u'Address:'), Dropdown(description=u'Auth type:', options={'None': 'None', 'Kerberos': 'Kerberos', 'Basic_Access': 'Basic_Access'}, value='None'), Text(value=u'username', description=u'Username:', layout=Layout(display=u'none')), Text(value=u'password', description=u'Password:', layout=Layout(display=u'none')), HTML(value=u'<br/>'), SubmitButton(description=u'Add endpoint', style=ButtonStyle()))), ManageEndpointWidget(children=(HTML(value=u'<br/>'), HTML(value=u'No endpoints yet.')))), selected_index=2, _titles={u'1': 'Create Session', u'0': 'Manage Sessions', u'3': 'Manage Endpoints', u'2': 'Add Endpoint'}),))"
      ]
     },
     "metadata": {},
     "output_type": "display_data"
    },
    {
     "name": "stdout",
     "output_type": "stream",
     "text": [
      "Added endpoint http://localhost:8998\n"
     ]
    },
    {
     "ename": "HttpClientException",
     "evalue": "Error sending http request and maximum retry encountered.",
     "output_type": "error",
     "traceback": [
      "\u001b[0;31m\u001b[0m",
      "\u001b[0;31mHttpClientException\u001b[0mTraceback (most recent call last)",
      "\u001b[0;32m/usr/local/lib/python2.7/dist-packages/hdijupyterutils/ipywidgetfactory.pyc\u001b[0m in \u001b[0;36msubmit_clicked\u001b[0;34m(self, button)\u001b[0m\n\u001b[1;32m     63\u001b[0m \u001b[0;34m\u001b[0m\u001b[0m\n\u001b[1;32m     64\u001b[0m     \u001b[0;32mdef\u001b[0m \u001b[0msubmit_clicked\u001b[0m\u001b[0;34m(\u001b[0m\u001b[0mself\u001b[0m\u001b[0;34m,\u001b[0m \u001b[0mbutton\u001b[0m\u001b[0;34m)\u001b[0m\u001b[0;34m:\u001b[0m\u001b[0;34m\u001b[0m\u001b[0m\n\u001b[0;32m---> 65\u001b[0;31m         \u001b[0mself\u001b[0m\u001b[0;34m.\u001b[0m\u001b[0mparent_widget\u001b[0m\u001b[0;34m.\u001b[0m\u001b[0mrun\u001b[0m\u001b[0;34m(\u001b[0m\u001b[0;34m)\u001b[0m\u001b[0;34m\u001b[0m\u001b[0m\n\u001b[0m",
      "\u001b[0;32m/usr/local/lib/python2.7/dist-packages/sparkmagic/controllerwidget/addendpointwidget.pyc\u001b[0m in \u001b[0;36mrun\u001b[0;34m(self)\u001b[0m\n\u001b[1;32m     63\u001b[0m         \u001b[0;31m# We need to call the refresh method because drop down in Tab 2 for endpoints wouldn't refresh with the new\u001b[0m\u001b[0;34m\u001b[0m\u001b[0;34m\u001b[0m\u001b[0m\n\u001b[1;32m     64\u001b[0m         \u001b[0;31m# value otherwise.\u001b[0m\u001b[0;34m\u001b[0m\u001b[0;34m\u001b[0m\u001b[0m\n\u001b[0;32m---> 65\u001b[0;31m         \u001b[0mself\u001b[0m\u001b[0;34m.\u001b[0m\u001b[0mrefresh_method\u001b[0m\u001b[0;34m(\u001b[0m\u001b[0;34m)\u001b[0m\u001b[0;34m\u001b[0m\u001b[0m\n\u001b[0m\u001b[1;32m     66\u001b[0m \u001b[0;34m\u001b[0m\u001b[0m\n\u001b[1;32m     67\u001b[0m     \u001b[0;32mdef\u001b[0m \u001b[0m_show_correct_endpoint_fields\u001b[0m\u001b[0;34m(\u001b[0m\u001b[0mself\u001b[0m\u001b[0;34m)\u001b[0m\u001b[0;34m:\u001b[0m\u001b[0;34m\u001b[0m\u001b[0m\n",
      "\u001b[0;32m/usr/local/lib/python2.7/dist-packages/sparkmagic/controllerwidget/magicscontrollerwidget.pyc\u001b[0m in \u001b[0;36m_refresh\u001b[0;34m(self)\u001b[0m\n\u001b[1;32m     60\u001b[0m                                               self.endpoints, self.endpoints_dropdown_widget, self._refresh)\n\u001b[1;32m     61\u001b[0m         self.manage_endpoint = ManageEndpointWidget(self.spark_controller, self.ipywidget_factory, self.ipython_display,\n\u001b[0;32m---> 62\u001b[0;31m                                                     self.endpoints, self._refresh)\n\u001b[0m\u001b[1;32m     63\u001b[0m \u001b[0;34m\u001b[0m\u001b[0m\n\u001b[1;32m     64\u001b[0m         self.tabs = self.ipywidget_factory.get_tab(children=[self.manage_session, self.create_session,\n",
      "\u001b[0;32m/usr/local/lib/python2.7/dist-packages/sparkmagic/controllerwidget/manageendpointwidget.pyc\u001b[0m in \u001b[0;36m__init__\u001b[0;34m(self, spark_controller, ipywidget_factory, ipython_display, endpoints, refresh_method)\u001b[0m\n\u001b[1;32m     15\u001b[0m         \u001b[0mself\u001b[0m\u001b[0;34m.\u001b[0m\u001b[0mrefresh_method\u001b[0m \u001b[0;34m=\u001b[0m \u001b[0mrefresh_method\u001b[0m\u001b[0;34m\u001b[0m\u001b[0m\n\u001b[1;32m     16\u001b[0m \u001b[0;34m\u001b[0m\u001b[0m\n\u001b[0;32m---> 17\u001b[0;31m         \u001b[0mself\u001b[0m\u001b[0;34m.\u001b[0m\u001b[0mchildren\u001b[0m \u001b[0;34m=\u001b[0m \u001b[0mself\u001b[0m\u001b[0;34m.\u001b[0m\u001b[0mget_existing_endpoint_widgets\u001b[0m\u001b[0;34m(\u001b[0m\u001b[0;34m)\u001b[0m\u001b[0;34m\u001b[0m\u001b[0m\n\u001b[0m\u001b[1;32m     18\u001b[0m \u001b[0;34m\u001b[0m\u001b[0m\n\u001b[1;32m     19\u001b[0m         \u001b[0;32mfor\u001b[0m \u001b[0mchild\u001b[0m \u001b[0;32min\u001b[0m \u001b[0mself\u001b[0m\u001b[0;34m.\u001b[0m\u001b[0mchildren\u001b[0m\u001b[0;34m:\u001b[0m\u001b[0;34m\u001b[0m\u001b[0m\n",
      "\u001b[0;32m/usr/local/lib/python2.7/dist-packages/sparkmagic/controllerwidget/manageendpointwidget.pyc\u001b[0m in \u001b[0;36mget_existing_endpoint_widgets\u001b[0;34m(self)\u001b[0m\n\u001b[1;32m     35\u001b[0m             \u001b[0;32mfor\u001b[0m \u001b[0murl\u001b[0m\u001b[0;34m,\u001b[0m \u001b[0mendpoint\u001b[0m \u001b[0;32min\u001b[0m \u001b[0mself\u001b[0m\u001b[0;34m.\u001b[0m\u001b[0mendpoints\u001b[0m\u001b[0;34m.\u001b[0m\u001b[0mitems\u001b[0m\u001b[0;34m(\u001b[0m\u001b[0;34m)\u001b[0m\u001b[0;34m:\u001b[0m\u001b[0;34m\u001b[0m\u001b[0m\n\u001b[1;32m     36\u001b[0m                 \u001b[0;32mtry\u001b[0m\u001b[0;34m:\u001b[0m\u001b[0;34m\u001b[0m\u001b[0m\n\u001b[0;32m---> 37\u001b[0;31m                     \u001b[0mendpoint_widgets\u001b[0m\u001b[0;34m.\u001b[0m\u001b[0mappend\u001b[0m\u001b[0;34m(\u001b[0m\u001b[0mself\u001b[0m\u001b[0;34m.\u001b[0m\u001b[0mget_endpoint_widget\u001b[0m\u001b[0;34m(\u001b[0m\u001b[0murl\u001b[0m\u001b[0;34m,\u001b[0m \u001b[0mendpoint\u001b[0m\u001b[0;34m)\u001b[0m\u001b[0;34m)\u001b[0m\u001b[0;34m\u001b[0m\u001b[0m\n\u001b[0m\u001b[1;32m     38\u001b[0m                 \u001b[0;32mexcept\u001b[0m \u001b[0mHttpClientException\u001b[0m\u001b[0;34m:\u001b[0m\u001b[0;34m\u001b[0m\u001b[0m\n\u001b[1;32m     39\u001b[0m                     \u001b[0;31m# If we can't reach one of the default endpoints, just skip over it\u001b[0m\u001b[0;34m\u001b[0m\u001b[0;34m\u001b[0m\u001b[0m\n",
      "\u001b[0;32m/usr/local/lib/python2.7/dist-packages/sparkmagic/controllerwidget/manageendpointwidget.pyc\u001b[0m in \u001b[0;36mget_endpoint_widget\u001b[0;34m(self, url, endpoint)\u001b[0m\n\u001b[1;32m     58\u001b[0m         \u001b[0mhbox_outter_children\u001b[0m \u001b[0;34m=\u001b[0m \u001b[0;34m[\u001b[0m\u001b[0;34m]\u001b[0m\u001b[0;34m\u001b[0m\u001b[0m\n\u001b[1;32m     59\u001b[0m         \u001b[0;32mtry\u001b[0m\u001b[0;34m:\u001b[0m\u001b[0;34m\u001b[0m\u001b[0m\n\u001b[0;32m---> 60\u001b[0;31m             \u001b[0mvbox_left\u001b[0m \u001b[0;34m=\u001b[0m \u001b[0mself\u001b[0m\u001b[0;34m.\u001b[0m\u001b[0mget_endpoint_left\u001b[0m\u001b[0;34m(\u001b[0m\u001b[0mendpoint\u001b[0m\u001b[0;34m,\u001b[0m \u001b[0murl\u001b[0m\u001b[0;34m)\u001b[0m\u001b[0;34m\u001b[0m\u001b[0m\n\u001b[0m\u001b[1;32m     61\u001b[0m             \u001b[0mcleanup_w\u001b[0m \u001b[0;34m=\u001b[0m \u001b[0mself\u001b[0m\u001b[0;34m.\u001b[0m\u001b[0mget_cleanup_button_endpoint\u001b[0m\u001b[0;34m(\u001b[0m\u001b[0murl\u001b[0m\u001b[0;34m,\u001b[0m \u001b[0mendpoint\u001b[0m\u001b[0;34m)\u001b[0m\u001b[0;34m\u001b[0m\u001b[0m\n\u001b[1;32m     62\u001b[0m \u001b[0;34m\u001b[0m\u001b[0m\n",
      "\u001b[0;32m/usr/local/lib/python2.7/dist-packages/sparkmagic/controllerwidget/manageendpointwidget.pyc\u001b[0m in \u001b[0;36mget_endpoint_left\u001b[0;34m(self, endpoint, url)\u001b[0m\n\u001b[1;32m     75\u001b[0m     \u001b[0;32mdef\u001b[0m \u001b[0mget_endpoint_left\u001b[0m\u001b[0;34m(\u001b[0m\u001b[0mself\u001b[0m\u001b[0;34m,\u001b[0m \u001b[0mendpoint\u001b[0m\u001b[0;34m,\u001b[0m \u001b[0murl\u001b[0m\u001b[0;34m)\u001b[0m\u001b[0;34m:\u001b[0m\u001b[0;34m\u001b[0m\u001b[0m\n\u001b[1;32m     76\u001b[0m         \u001b[0;31m# 400 px\u001b[0m\u001b[0;34m\u001b[0m\u001b[0;34m\u001b[0m\u001b[0m\n\u001b[0;32m---> 77\u001b[0;31m         \u001b[0minfo\u001b[0m \u001b[0;34m=\u001b[0m \u001b[0mself\u001b[0m\u001b[0;34m.\u001b[0m\u001b[0mget_info_endpoint_widget\u001b[0m\u001b[0;34m(\u001b[0m\u001b[0mendpoint\u001b[0m\u001b[0;34m,\u001b[0m \u001b[0murl\u001b[0m\u001b[0;34m)\u001b[0m\u001b[0;34m\u001b[0m\u001b[0m\n\u001b[0m\u001b[1;32m     78\u001b[0m         \u001b[0mdelete_session_number\u001b[0m \u001b[0;34m=\u001b[0m \u001b[0mself\u001b[0m\u001b[0;34m.\u001b[0m\u001b[0mget_delete_session_endpoint_widget\u001b[0m\u001b[0;34m(\u001b[0m\u001b[0murl\u001b[0m\u001b[0;34m,\u001b[0m \u001b[0mendpoint\u001b[0m\u001b[0;34m)\u001b[0m\u001b[0;34m\u001b[0m\u001b[0m\n\u001b[1;32m     79\u001b[0m         \u001b[0mvbox_left\u001b[0m \u001b[0;34m=\u001b[0m \u001b[0mself\u001b[0m\u001b[0;34m.\u001b[0m\u001b[0mipywidget_factory\u001b[0m\u001b[0;34m.\u001b[0m\u001b[0mget_vbox\u001b[0m\u001b[0;34m(\u001b[0m\u001b[0mchildren\u001b[0m\u001b[0;34m=\u001b[0m\u001b[0;34m[\u001b[0m\u001b[0minfo\u001b[0m\u001b[0;34m,\u001b[0m \u001b[0mdelete_session_number\u001b[0m\u001b[0;34m]\u001b[0m\u001b[0;34m,\u001b[0m \u001b[0mwidth\u001b[0m\u001b[0;34m=\u001b[0m\u001b[0;34m\"400px\"\u001b[0m\u001b[0;34m)\u001b[0m\u001b[0;34m\u001b[0m\u001b[0m\n",
      "\u001b[0;32m/usr/local/lib/python2.7/dist-packages/sparkmagic/controllerwidget/manageendpointwidget.pyc\u001b[0m in \u001b[0;36mget_info_endpoint_widget\u001b[0;34m(self, endpoint, url)\u001b[0m\n\u001b[1;32m    127\u001b[0m         \u001b[0mwidth\u001b[0m \u001b[0;34m=\u001b[0m \u001b[0;34m\"400px\"\u001b[0m\u001b[0;34m\u001b[0m\u001b[0m\n\u001b[1;32m    128\u001b[0m \u001b[0;34m\u001b[0m\u001b[0m\n\u001b[0;32m--> 129\u001b[0;31m         \u001b[0minfo_sessions\u001b[0m \u001b[0;34m=\u001b[0m \u001b[0mself\u001b[0m\u001b[0;34m.\u001b[0m\u001b[0mspark_controller\u001b[0m\u001b[0;34m.\u001b[0m\u001b[0mget_all_sessions_endpoint_info\u001b[0m\u001b[0;34m(\u001b[0m\u001b[0mendpoint\u001b[0m\u001b[0;34m)\u001b[0m\u001b[0;34m\u001b[0m\u001b[0m\n\u001b[0m\u001b[1;32m    130\u001b[0m \u001b[0;34m\u001b[0m\u001b[0m\n\u001b[1;32m    131\u001b[0m         \u001b[0;32mif\u001b[0m \u001b[0mlen\u001b[0m\u001b[0;34m(\u001b[0m\u001b[0minfo_sessions\u001b[0m\u001b[0;34m)\u001b[0m \u001b[0;34m>\u001b[0m \u001b[0;36m0\u001b[0m\u001b[0;34m:\u001b[0m\u001b[0;34m\u001b[0m\u001b[0m\n",
      "\u001b[0;32m/usr/local/lib/python2.7/dist-packages/sparkmagic/livyclientlib/sparkcontroller.pyc\u001b[0m in \u001b[0;36mget_all_sessions_endpoint_info\u001b[0;34m(self, endpoint)\u001b[0m\n\u001b[1;32m     51\u001b[0m \u001b[0;34m\u001b[0m\u001b[0m\n\u001b[1;32m     52\u001b[0m     \u001b[0;32mdef\u001b[0m \u001b[0mget_all_sessions_endpoint_info\u001b[0m\u001b[0;34m(\u001b[0m\u001b[0mself\u001b[0m\u001b[0;34m,\u001b[0m \u001b[0mendpoint\u001b[0m\u001b[0;34m)\u001b[0m\u001b[0;34m:\u001b[0m\u001b[0;34m\u001b[0m\u001b[0m\n\u001b[0;32m---> 53\u001b[0;31m         \u001b[0msessions\u001b[0m \u001b[0;34m=\u001b[0m \u001b[0mself\u001b[0m\u001b[0;34m.\u001b[0m\u001b[0mget_all_sessions_endpoint\u001b[0m\u001b[0;34m(\u001b[0m\u001b[0mendpoint\u001b[0m\u001b[0;34m)\u001b[0m\u001b[0;34m\u001b[0m\u001b[0m\n\u001b[0m\u001b[1;32m     54\u001b[0m         \u001b[0;32mreturn\u001b[0m \u001b[0;34m[\u001b[0m\u001b[0mstr\u001b[0m\u001b[0;34m(\u001b[0m\u001b[0ms\u001b[0m\u001b[0;34m)\u001b[0m \u001b[0;32mfor\u001b[0m \u001b[0ms\u001b[0m \u001b[0;32min\u001b[0m \u001b[0msessions\u001b[0m\u001b[0;34m]\u001b[0m\u001b[0;34m\u001b[0m\u001b[0m\n\u001b[1;32m     55\u001b[0m \u001b[0;34m\u001b[0m\u001b[0m\n",
      "\u001b[0;32m/usr/local/lib/python2.7/dist-packages/sparkmagic/livyclientlib/sparkcontroller.pyc\u001b[0m in \u001b[0;36mget_all_sessions_endpoint\u001b[0;34m(self, endpoint)\u001b[0m\n\u001b[1;32m     42\u001b[0m     \u001b[0;32mdef\u001b[0m \u001b[0mget_all_sessions_endpoint\u001b[0m\u001b[0;34m(\u001b[0m\u001b[0mself\u001b[0m\u001b[0;34m,\u001b[0m \u001b[0mendpoint\u001b[0m\u001b[0;34m)\u001b[0m\u001b[0;34m:\u001b[0m\u001b[0;34m\u001b[0m\u001b[0m\n\u001b[1;32m     43\u001b[0m         \u001b[0mhttp_client\u001b[0m \u001b[0;34m=\u001b[0m \u001b[0mself\u001b[0m\u001b[0;34m.\u001b[0m\u001b[0m_http_client\u001b[0m\u001b[0;34m(\u001b[0m\u001b[0mendpoint\u001b[0m\u001b[0;34m)\u001b[0m\u001b[0;34m\u001b[0m\u001b[0m\n\u001b[0;32m---> 44\u001b[0;31m         \u001b[0msessions\u001b[0m \u001b[0;34m=\u001b[0m \u001b[0mhttp_client\u001b[0m\u001b[0;34m.\u001b[0m\u001b[0mget_sessions\u001b[0m\u001b[0;34m(\u001b[0m\u001b[0;34m)\u001b[0m\u001b[0;34m[\u001b[0m\u001b[0;34mu\"sessions\"\u001b[0m\u001b[0;34m]\u001b[0m\u001b[0;34m\u001b[0m\u001b[0m\n\u001b[0m\u001b[1;32m     45\u001b[0m         session_list = [self._livy_session(http_client, {constants.LIVY_KIND_PARAM: s[constants.LIVY_KIND_PARAM]},\n\u001b[1;32m     46\u001b[0m                                            self.ipython_display, s[u\"id\"])\n",
      "\u001b[0;32m/usr/local/lib/python2.7/dist-packages/sparkmagic/livyclientlib/livyreliablehttpclient.pyc\u001b[0m in \u001b[0;36mget_sessions\u001b[0;34m(self)\u001b[0m\n\u001b[1;32m     31\u001b[0m \u001b[0;34m\u001b[0m\u001b[0m\n\u001b[1;32m     32\u001b[0m     \u001b[0;32mdef\u001b[0m \u001b[0mget_sessions\u001b[0m\u001b[0;34m(\u001b[0m\u001b[0mself\u001b[0m\u001b[0;34m)\u001b[0m\u001b[0;34m:\u001b[0m\u001b[0;34m\u001b[0m\u001b[0m\n\u001b[0;32m---> 33\u001b[0;31m         \u001b[0;32mreturn\u001b[0m \u001b[0mself\u001b[0m\u001b[0;34m.\u001b[0m\u001b[0m_http_client\u001b[0m\u001b[0;34m.\u001b[0m\u001b[0mget\u001b[0m\u001b[0;34m(\u001b[0m\u001b[0;34m\"/sessions\"\u001b[0m\u001b[0;34m,\u001b[0m \u001b[0;34m[\u001b[0m\u001b[0;36m200\u001b[0m\u001b[0;34m]\u001b[0m\u001b[0;34m)\u001b[0m\u001b[0;34m.\u001b[0m\u001b[0mjson\u001b[0m\u001b[0;34m(\u001b[0m\u001b[0;34m)\u001b[0m\u001b[0;34m\u001b[0m\u001b[0m\n\u001b[0m\u001b[1;32m     34\u001b[0m \u001b[0;34m\u001b[0m\u001b[0m\n\u001b[1;32m     35\u001b[0m     \u001b[0;32mdef\u001b[0m \u001b[0mpost_session\u001b[0m\u001b[0;34m(\u001b[0m\u001b[0mself\u001b[0m\u001b[0;34m,\u001b[0m \u001b[0mproperties\u001b[0m\u001b[0;34m)\u001b[0m\u001b[0;34m:\u001b[0m\u001b[0;34m\u001b[0m\u001b[0m\n",
      "\u001b[0;32m/usr/local/lib/python2.7/dist-packages/sparkmagic/livyclientlib/reliablehttpclient.pyc\u001b[0m in \u001b[0;36mget\u001b[0;34m(self, relative_url, accepted_status_codes)\u001b[0m\n\u001b[1;32m     44\u001b[0m     \u001b[0;32mdef\u001b[0m \u001b[0mget\u001b[0m\u001b[0;34m(\u001b[0m\u001b[0mself\u001b[0m\u001b[0;34m,\u001b[0m \u001b[0mrelative_url\u001b[0m\u001b[0;34m,\u001b[0m \u001b[0maccepted_status_codes\u001b[0m\u001b[0;34m)\u001b[0m\u001b[0;34m:\u001b[0m\u001b[0;34m\u001b[0m\u001b[0m\n\u001b[1;32m     45\u001b[0m         \u001b[0;34m\"\"\"Sends a get request. Returns a response.\"\"\"\u001b[0m\u001b[0;34m\u001b[0m\u001b[0m\n\u001b[0;32m---> 46\u001b[0;31m         \u001b[0;32mreturn\u001b[0m \u001b[0mself\u001b[0m\u001b[0;34m.\u001b[0m\u001b[0m_send_request\u001b[0m\u001b[0;34m(\u001b[0m\u001b[0mrelative_url\u001b[0m\u001b[0;34m,\u001b[0m \u001b[0maccepted_status_codes\u001b[0m\u001b[0;34m,\u001b[0m \u001b[0mrequests\u001b[0m\u001b[0;34m.\u001b[0m\u001b[0mget\u001b[0m\u001b[0;34m)\u001b[0m\u001b[0;34m\u001b[0m\u001b[0m\n\u001b[0m\u001b[1;32m     47\u001b[0m \u001b[0;34m\u001b[0m\u001b[0m\n\u001b[1;32m     48\u001b[0m     \u001b[0;32mdef\u001b[0m \u001b[0mpost\u001b[0m\u001b[0;34m(\u001b[0m\u001b[0mself\u001b[0m\u001b[0;34m,\u001b[0m \u001b[0mrelative_url\u001b[0m\u001b[0;34m,\u001b[0m \u001b[0maccepted_status_codes\u001b[0m\u001b[0;34m,\u001b[0m \u001b[0mdata\u001b[0m\u001b[0;34m)\u001b[0m\u001b[0;34m:\u001b[0m\u001b[0;34m\u001b[0m\u001b[0m\n",
      "\u001b[0;32m/usr/local/lib/python2.7/dist-packages/sparkmagic/livyclientlib/reliablehttpclient.pyc\u001b[0m in \u001b[0;36m_send_request\u001b[0;34m(self, relative_url, accepted_status_codes, function, data)\u001b[0m\n\u001b[1;32m     55\u001b[0m \u001b[0;34m\u001b[0m\u001b[0m\n\u001b[1;32m     56\u001b[0m     \u001b[0;32mdef\u001b[0m \u001b[0m_send_request\u001b[0m\u001b[0;34m(\u001b[0m\u001b[0mself\u001b[0m\u001b[0;34m,\u001b[0m \u001b[0mrelative_url\u001b[0m\u001b[0;34m,\u001b[0m \u001b[0maccepted_status_codes\u001b[0m\u001b[0;34m,\u001b[0m \u001b[0mfunction\u001b[0m\u001b[0;34m,\u001b[0m \u001b[0mdata\u001b[0m\u001b[0;34m=\u001b[0m\u001b[0mNone\u001b[0m\u001b[0;34m)\u001b[0m\u001b[0;34m:\u001b[0m\u001b[0;34m\u001b[0m\u001b[0m\n\u001b[0;32m---> 57\u001b[0;31m         \u001b[0;32mreturn\u001b[0m \u001b[0mself\u001b[0m\u001b[0;34m.\u001b[0m\u001b[0m_send_request_helper\u001b[0m\u001b[0;34m(\u001b[0m\u001b[0mself\u001b[0m\u001b[0;34m.\u001b[0m\u001b[0mcompose_url\u001b[0m\u001b[0;34m(\u001b[0m\u001b[0mrelative_url\u001b[0m\u001b[0;34m)\u001b[0m\u001b[0;34m,\u001b[0m \u001b[0maccepted_status_codes\u001b[0m\u001b[0;34m,\u001b[0m \u001b[0mfunction\u001b[0m\u001b[0;34m,\u001b[0m \u001b[0mdata\u001b[0m\u001b[0;34m,\u001b[0m \u001b[0;36m0\u001b[0m\u001b[0;34m)\u001b[0m\u001b[0;34m\u001b[0m\u001b[0m\n\u001b[0m\u001b[1;32m     58\u001b[0m \u001b[0;34m\u001b[0m\u001b[0m\n\u001b[1;32m     59\u001b[0m     \u001b[0;32mdef\u001b[0m \u001b[0m_send_request_helper\u001b[0m\u001b[0;34m(\u001b[0m\u001b[0mself\u001b[0m\u001b[0;34m,\u001b[0m \u001b[0murl\u001b[0m\u001b[0;34m,\u001b[0m \u001b[0maccepted_status_codes\u001b[0m\u001b[0;34m,\u001b[0m \u001b[0mfunction\u001b[0m\u001b[0;34m,\u001b[0m \u001b[0mdata\u001b[0m\u001b[0;34m,\u001b[0m \u001b[0mretry_count\u001b[0m\u001b[0;34m)\u001b[0m\u001b[0;34m:\u001b[0m\u001b[0;34m\u001b[0m\u001b[0m\n",
      "\u001b[0;32m/usr/local/lib/python2.7/dist-packages/sparkmagic/livyclientlib/reliablehttpclient.pyc\u001b[0m in \u001b[0;36m_send_request_helper\u001b[0;34m(self, url, accepted_status_codes, function, data, retry_count)\u001b[0m\n\u001b[1;32m     90\u001b[0m \u001b[0;34m\u001b[0m\u001b[0m\n\u001b[1;32m     91\u001b[0m                 \u001b[0;32mif\u001b[0m \u001b[0merror\u001b[0m\u001b[0;34m:\u001b[0m\u001b[0;34m\u001b[0m\u001b[0m\n\u001b[0;32m---> 92\u001b[0;31m                     \u001b[0;32mraise\u001b[0m \u001b[0mHttpClientException\u001b[0m\u001b[0;34m(\u001b[0m\u001b[0;34mu\"Error sending http request and maximum retry encountered.\"\u001b[0m\u001b[0;34m)\u001b[0m\u001b[0;34m\u001b[0m\u001b[0m\n\u001b[0m\u001b[1;32m     93\u001b[0m                 \u001b[0;32melse\u001b[0m\u001b[0;34m:\u001b[0m\u001b[0;34m\u001b[0m\u001b[0m\n\u001b[1;32m     94\u001b[0m                     raise HttpClientException(u\"Invalid status code '{}' from {} with error payload: {}\"\n",
      "\u001b[0;31mHttpClientException\u001b[0m: Error sending http request and maximum retry encountered."
     ]
    }
   ],
   "source": [
    "%manage_spark"
   ]
  }
 ],
 "metadata": {
  "kernelspec": {
   "display_name": "Python 2",
   "language": "python",
   "name": "python2"
  },
  "language_info": {
   "codemirror_mode": {
    "name": "ipython",
    "version": 2
   },
   "file_extension": ".py",
   "mimetype": "text/x-python",
   "name": "python",
   "nbconvert_exporter": "python",
   "pygments_lexer": "ipython2",
   "version": "2.7.9"
  }
 },
 "nbformat": 4,
 "nbformat_minor": 2
}
