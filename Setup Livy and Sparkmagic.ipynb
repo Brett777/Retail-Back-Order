{
 "cells": [
  {
   "cell_type": "code",
   "execution_count": 1,
   "metadata": {},
   "outputs": [],
   "source": [
    "import os\n",
    "from shutil import copyfile\n"
   ]
  },
  {
   "cell_type": "code",
   "execution_count": 2,
   "metadata": {},
   "outputs": [
    {
     "data": {
      "text/plain": [
       "u'/home/datascience/Retail-Back-Order'"
      ]
     },
     "execution_count": 2,
     "metadata": {},
     "output_type": "execute_result"
    }
   ],
   "source": [
    "pwd"
   ]
  },
  {
   "cell_type": "code",
   "execution_count": 3,
   "metadata": {},
   "outputs": [],
   "source": [
    "!sudo cp /home/datascience/Retail-Back-Order/log4j.properties /etc/datascience/build/livy-0.4.0-incubating-bin/conf/log4j.properties\n",
    "!sudo cp /home/datascience/Retail-Back-Order/livy.conf /etc/datascience/build/livy-0.4.0-incubating-bin/conf/livy.conf\n",
    "!sudo cp /home/datascience/Retail-Back-Order/spark-blacklist.conf /etc/datascience/build/livy-0.4.0-incubating-bin/conf/spark-blacklist.conf"
   ]
  },
  {
   "cell_type": "code",
   "execution_count": null,
   "metadata": {},
   "outputs": [],
   "source": [
    "os.chdir(\"/etc/datascience/build/livy-0.4.0-incubating-bin\")\n"
   ]
  },
  {
   "cell_type": "code",
   "execution_count": null,
   "metadata": {},
   "outputs": [],
   "source": [
    "!sudo mkdir logs"
   ]
  },
  {
   "cell_type": "code",
   "execution_count": null,
   "metadata": {},
   "outputs": [],
   "source": [
    "# run from the command line, launch the livy server\n",
    "# sudo -E ./bin/livy-server"
   ]
  },
  {
   "cell_type": "code",
   "execution_count": 4,
   "metadata": {},
   "outputs": [],
   "source": [
    "%load_ext sparkmagic.magics"
   ]
  },
  {
   "cell_type": "code",
   "execution_count": 9,
   "metadata": {},
   "outputs": [
    {
     "name": "stdout",
     "output_type": "stream",
     "text": [
      "{\"from\":0,\"total\":1,\"sessions\":[{\"id\":0,\"appId\":null,\"owner\":null,\"proxyUser\":null,\"state\":\"idle\",\"kind\":\"pyspark\",\"appInfo\":{\"driverLogUrl\":null,\"sparkUiUrl\":null},\"log\":[\"17/12/01 00:41:34 INFO SessionState: Created local directory: /tmp/a2d7ee36-ac22-4294-a960-a88ed268939f_resources\",\"17/12/01 00:41:34 INFO SessionState: Created HDFS directory: /tmp/hive/root/a2d7ee36-ac22-4294-a960-a88ed268939f\",\"17/12/01 00:41:34 INFO SessionState: Created local directory: /tmp/root/a2d7ee36-ac22-4294-a960-a88ed268939f\",\"17/12/01 00:41:34 INFO SessionState: Created HDFS directory: /tmp/hive/root/a2d7ee36-ac22-4294-a960-a88ed268939f/_tmp_space.db\",\"17/12/01 00:41:34 INFO HiveClientImpl: Warehouse location for Hive client (version 1.2.1) is file:/etc/datascience/build/livy-0.4.0-incubating-bin/spark-warehouse\",\"17/12/01 00:41:34 INFO HiveMetaStore: 0: get_database: default\",\"17/12/01 00:41:34 INFO audit: ugi=root\\tip=unknown-ip-addr\\tcmd=get_database: default\\t\",\"17/12/01 00:41:34 INFO HiveMetaStore: 0: get_database: global_temp\",\"17/12/01 00:41:34 INFO audit: ugi=root\\tip=unknown-ip-addr\\tcmd=get_database: global_temp\\t\",\"17/12/01 00:41:34 WARN ObjectStore: Failed to get database global_temp, returning NoSuchObjectException\"]}]}"
     ]
    }
   ],
   "source": [
    "!curl localhost:8998/sessions"
   ]
  },
  {
   "cell_type": "code",
   "execution_count": 6,
   "metadata": {},
   "outputs": [
    {
     "data": {
      "application/vnd.jupyter.widget-view+json": {
       "model_id": "eaf7c22448bf4dffbf8f7ed155fbf339",
       "version_major": 2,
       "version_minor": 0
      },
      "text/html": [
       "<p>Failed to display Jupyter Widget of type <code>MagicsControllerWidget</code>.</p>\n",
       "<p>\n",
       "  If you're reading this message in the Jupyter Notebook or JupyterLab Notebook, it may mean\n",
       "  that the widgets JavaScript is still loading. If this message persists, it\n",
       "  likely means that the widgets JavaScript library is either not installed or\n",
       "  not enabled. See the <a href=\"https://ipywidgets.readthedocs.io/en/stable/user_install.html\">Jupyter\n",
       "  Widgets Documentation</a> for setup instructions.\n",
       "</p>\n",
       "<p>\n",
       "  If you're reading this message in another frontend (for example, a static\n",
       "  rendering on GitHub or <a href=\"https://nbviewer.jupyter.org/\">NBViewer</a>),\n",
       "  it may mean that your frontend doesn't currently support widgets.\n",
       "</p>\n"
      ],
      "text/plain": [
       "MagicsControllerWidget(children=(Tab(children=(ManageSessionWidget(children=(HTML(value=u'<br/>'), HTML(value=u'No sessions yet.'))), CreateSessionWidget(children=(HTML(value=u'<br/>'), Dropdown(description=u'Endpoint:', options={}, value=None), Text(value=u'session-name', description=u'Name:'), ToggleButtons(description=u'Language:', options=('scala', 'python'), value='scala'), Text(value=u'{}', description=u'Properties:'), HTML(value=u'<br/>'), SubmitButton(description=u'Create Session', style=ButtonStyle()))), AddEndpointWidget(children=(HTML(value=u'<br/>'), Text(value=u'http://example.com/livy', description=u'Address:'), Dropdown(description=u'Auth type:', options={'None': 'None', 'Kerberos': 'Kerberos', 'Basic_Access': 'Basic_Access'}, value='None'), Text(value=u'username', description=u'Username:', layout=Layout(display=u'none')), Text(value=u'password', description=u'Password:', layout=Layout(display=u'none')), HTML(value=u'<br/>'), SubmitButton(description=u'Add endpoint', style=ButtonStyle()))), ManageEndpointWidget(children=(HTML(value=u'<br/>'), HTML(value=u'No endpoints yet.')))), _titles={u'1': 'Create Session', u'0': 'Manage Sessions', u'3': 'Manage Endpoints', u'2': 'Add Endpoint'}),))"
      ]
     },
     "metadata": {},
     "output_type": "display_data"
    },
    {
     "name": "stdout",
     "output_type": "stream",
     "text": [
      "Added endpoint http://localhost:8998\n",
      "Starting Spark application\n"
     ]
    },
    {
     "data": {
      "text/html": [
       "<table>\n",
       "<tr><th>ID</th><th>YARN Application ID</th><th>Kind</th><th>State</th><th>Spark UI</th><th>Driver log</th><th>Current session?</th></tr><tr><td>0</td><td>None</td><td>pyspark</td><td>idle</td><td></td><td></td><td>✔</td></tr></table>"
      ],
      "text/plain": [
       "<IPython.core.display.HTML object>"
      ]
     },
     "metadata": {},
     "output_type": "display_data"
    },
    {
     "name": "stdout",
     "output_type": "stream",
     "text": [
      "SparkSession available as 'spark'.\n"
     ]
    }
   ],
   "source": [
    "%manage_spark"
   ]
  },
  {
   "cell_type": "code",
   "execution_count": 7,
   "metadata": {},
   "outputs": [
    {
     "name": "stdout",
     "output_type": "stream",
     "text": [
      "1764\n"
     ]
    }
   ],
   "source": [
    "def sq(x):\n",
    "    return x * x\n",
    "\n",
    "print sq(42)"
   ]
  },
  {
   "cell_type": "code",
   "execution_count": 11,
   "metadata": {},
   "outputs": [
    {
     "name": "stderr",
     "output_type": "stream",
     "text": [
      "An error occurred while calling z:org.apache.spark.api.python.PythonRDD.collectAndServe.\n",
      ": org.apache.spark.SparkException: Job aborted due to stage failure: Task 0 in stage 0.0 failed 1 times, most recent failure: Lost task 0.0 in stage 0.0 (TID 0, localhost, executor driver): org.apache.spark.api.python.PythonException: Traceback (most recent call last):\n",
      "  File \"/etc/datascience/build/spark-2.1.1-bin-hadoop2.7/python/lib/pyspark.zip/pyspark/worker.py\", line 174, in main\n",
      "    process()\n",
      "  File \"/etc/datascience/build/spark-2.1.1-bin-hadoop2.7/python/lib/pyspark.zip/pyspark/worker.py\", line 169, in process\n",
      "    serializer.dump_stream(func(split_index, iterator), outfile)\n",
      "  File \"/etc/datascience/build/spark-2.1.1-bin-hadoop2.7/python/lib/pyspark.zip/pyspark/rdd.py\", line 2408, in pipeline_func\n",
      "  File \"/etc/datascience/build/spark-2.1.1-bin-hadoop2.7/python/lib/pyspark.zip/pyspark/rdd.py\", line 2408, in pipeline_func\n",
      "  File \"/etc/datascience/build/spark-2.1.1-bin-hadoop2.7/python/lib/pyspark.zip/pyspark/rdd.py\", line 2408, in pipeline_func\n",
      "  File \"/etc/datascience/build/spark-2.1.1-bin-hadoop2.7/python/lib/pyspark.zip/pyspark/rdd.py\", line 345, in func\n",
      "  File \"/etc/datascience/build/spark-2.1.1-bin-hadoop2.7/python/lib/pyspark.zip/pyspark/rdd.py\", line 1040, in <lambda>\n",
      "  File \"/etc/datascience/build/spark-2.1.1-bin-hadoop2.7/python/lib/pyspark.zip/pyspark/rdd.py\", line 1040, in <genexpr>\n",
      "  File \"<stdin>\", line 5, in inside\n",
      "NameError: global name 'random' is not defined\n",
      "\n",
      "\tat org.apache.spark.api.python.PythonRunner$$anon$1.read(PythonRDD.scala:193)\n",
      "\tat org.apache.spark.api.python.PythonRunner$$anon$1.<init>(PythonRDD.scala:234)\n",
      "\tat org.apache.spark.api.python.PythonRunner.compute(PythonRDD.scala:152)\n",
      "\tat org.apache.spark.api.python.PythonRDD.compute(PythonRDD.scala:63)\n",
      "\tat org.apache.spark.rdd.RDD.computeOrReadCheckpoint(RDD.scala:323)\n",
      "\tat org.apache.spark.rdd.RDD.iterator(RDD.scala:287)\n",
      "\tat org.apache.spark.scheduler.ResultTask.runTask(ResultTask.scala:87)\n",
      "\tat org.apache.spark.scheduler.Task.run(Task.scala:99)\n",
      "\tat org.apache.spark.executor.Executor$TaskRunner.run(Executor.scala:322)\n",
      "\tat java.util.concurrent.ThreadPoolExecutor.runWorker(ThreadPoolExecutor.java:1152)\n",
      "\tat java.util.concurrent.ThreadPoolExecutor$Worker.run(ThreadPoolExecutor.java:622)\n",
      "\tat java.lang.Thread.run(Thread.java:748)\n",
      "\n",
      "Driver stacktrace:\n",
      "\tat org.apache.spark.scheduler.DAGScheduler.org$apache$spark$scheduler$DAGScheduler$$failJobAndIndependentStages(DAGScheduler.scala:1435)\n",
      "\tat org.apache.spark.scheduler.DAGScheduler$$anonfun$abortStage$1.apply(DAGScheduler.scala:1423)\n",
      "\tat org.apache.spark.scheduler.DAGScheduler$$anonfun$abortStage$1.apply(DAGScheduler.scala:1422)\n",
      "\tat scala.collection.mutable.ResizableArray$class.foreach(ResizableArray.scala:59)\n",
      "\tat scala.collection.mutable.ArrayBuffer.foreach(ArrayBuffer.scala:48)\n",
      "\tat org.apache.spark.scheduler.DAGScheduler.abortStage(DAGScheduler.scala:1422)\n",
      "\tat org.apache.spark.scheduler.DAGScheduler$$anonfun$handleTaskSetFailed$1.apply(DAGScheduler.scala:802)\n",
      "\tat org.apache.spark.scheduler.DAGScheduler$$anonfun$handleTaskSetFailed$1.apply(DAGScheduler.scala:802)\n",
      "\tat scala.Option.foreach(Option.scala:257)\n",
      "\tat org.apache.spark.scheduler.DAGScheduler.handleTaskSetFailed(DAGScheduler.scala:802)\n",
      "\tat org.apache.spark.scheduler.DAGSchedulerEventProcessLoop.doOnReceive(DAGScheduler.scala:1650)\n",
      "\tat org.apache.spark.scheduler.DAGSchedulerEventProcessLoop.onReceive(DAGScheduler.scala:1605)\n",
      "\tat org.apache.spark.scheduler.DAGSchedulerEventProcessLoop.onReceive(DAGScheduler.scala:1594)\n",
      "\tat org.apache.spark.util.EventLoop$$anon$1.run(EventLoop.scala:48)\n",
      "\tat org.apache.spark.scheduler.DAGScheduler.runJob(DAGScheduler.scala:628)\n",
      "\tat org.apache.spark.SparkContext.runJob(SparkContext.scala:1925)\n",
      "\tat org.apache.spark.SparkContext.runJob(SparkContext.scala:1938)\n",
      "\tat org.apache.spark.SparkContext.runJob(SparkContext.scala:1951)\n",
      "\tat org.apache.spark.SparkContext.runJob(SparkContext.scala:1965)\n",
      "\tat org.apache.spark.rdd.RDD$$anonfun$collect$1.apply(RDD.scala:936)\n",
      "\tat org.apache.spark.rdd.RDDOperationScope$.withScope(RDDOperationScope.scala:151)\n",
      "\tat org.apache.spark.rdd.RDDOperationScope$.withScope(RDDOperationScope.scala:112)\n",
      "\tat org.apache.spark.rdd.RDD.withScope(RDD.scala:362)\n",
      "\tat org.apache.spark.rdd.RDD.collect(RDD.scala:935)\n",
      "\tat org.apache.spark.api.python.PythonRDD$.collectAndServe(PythonRDD.scala:453)\n",
      "\tat org.apache.spark.api.python.PythonRDD.collectAndServe(PythonRDD.scala)\n",
      "\tat sun.reflect.NativeMethodAccessorImpl.invoke0(Native Method)\n",
      "\tat sun.reflect.NativeMethodAccessorImpl.invoke(NativeMethodAccessorImpl.java:57)\n",
      "\tat sun.reflect.DelegatingMethodAccessorImpl.invoke(DelegatingMethodAccessorImpl.java:43)\n",
      "\tat java.lang.reflect.Method.invoke(Method.java:606)\n",
      "\tat py4j.reflection.MethodInvoker.invoke(MethodInvoker.java:244)\n",
      "\tat py4j.reflection.ReflectionEngine.invoke(ReflectionEngine.java:357)\n",
      "\tat py4j.Gateway.invoke(Gateway.java:280)\n",
      "\tat py4j.commands.AbstractCommand.invokeMethod(AbstractCommand.java:132)\n",
      "\tat py4j.commands.CallCommand.execute(CallCommand.java:79)\n",
      "\tat py4j.GatewayConnection.run(GatewayConnection.java:214)\n",
      "\tat java.lang.Thread.run(Thread.java:748)\n",
      "Caused by: org.apache.spark.api.python.PythonException: Traceback (most recent call last):\n",
      "  File \"/etc/datascience/build/spark-2.1.1-bin-hadoop2.7/python/lib/pyspark.zip/pyspark/worker.py\", line 174, in main\n",
      "    process()\n",
      "  File \"/etc/datascience/build/spark-2.1.1-bin-hadoop2.7/python/lib/pyspark.zip/pyspark/worker.py\", line 169, in process\n",
      "    serializer.dump_stream(func(split_index, iterator), outfile)\n",
      "  File \"/etc/datascience/build/spark-2.1.1-bin-hadoop2.7/python/lib/pyspark.zip/pyspark/rdd.py\", line 2408, in pipeline_func\n",
      "  File \"/etc/datascience/build/spark-2.1.1-bin-hadoop2.7/python/lib/pyspark.zip/pyspark/rdd.py\", line 2408, in pipeline_func\n",
      "  File \"/etc/datascience/build/spark-2.1.1-bin-hadoop2.7/python/lib/pyspark.zip/pyspark/rdd.py\", line 2408, in pipeline_func\n",
      "  File \"/etc/datascience/build/spark-2.1.1-bin-hadoop2.7/python/lib/pyspark.zip/pyspark/rdd.py\", line 345, in func\n",
      "  File \"/etc/datascience/build/spark-2.1.1-bin-hadoop2.7/python/lib/pyspark.zip/pyspark/rdd.py\", line 1040, in <lambda>\n",
      "  File \"/etc/datascience/build/spark-2.1.1-bin-hadoop2.7/python/lib/pyspark.zip/pyspark/rdd.py\", line 1040, in <genexpr>\n",
      "  File \"<stdin>\", line 5, in inside\n",
      "NameError: global name 'random' is not defined\n",
      "\n",
      "\tat org.apache.spark.api.python.PythonRunner$$anon$1.read(PythonRDD.scala:193)\n",
      "\tat org.apache.spark.api.python.PythonRunner$$anon$1.<init>(PythonRDD.scala:234)\n",
      "\tat org.apache.spark.api.python.PythonRunner.compute(PythonRDD.scala:152)\n",
      "\tat org.apache.spark.api.python.PythonRDD.compute(PythonRDD.scala:63)\n",
      "\tat org.apache.spark.rdd.RDD.computeOrReadCheckpoint(RDD.scala:323)\n",
      "\tat org.apache.spark.rdd.RDD.iterator(RDD.scala:287)\n",
      "\tat org.apache.spark.scheduler.ResultTask.runTask(ResultTask.scala:87)\n",
      "\tat org.apache.spark.scheduler.Task.run(Task.scala:99)\n",
      "\tat org.apache.spark.executor.Executor$TaskRunner.run(Executor.scala:322)\n",
      "\tat java.util.concurrent.ThreadPoolExecutor.runWorker(ThreadPoolExecutor.java:1152)\n",
      "\tat java.util.concurrent.ThreadPoolExecutor$Worker.run(ThreadPoolExecutor.java:622)\n",
      "\t... 1 more\n",
      "\n",
      "Traceback (most recent call last):\n",
      "  File \"/etc/datascience/build/spark-2.1.1-bin-hadoop2.7/python/lib/pyspark.zip/pyspark/rdd.py\", line 1040, in count\n",
      "    return self.mapPartitions(lambda i: [sum(1 for _ in i)]).sum()\n",
      "  File \"/etc/datascience/build/spark-2.1.1-bin-hadoop2.7/python/lib/pyspark.zip/pyspark/rdd.py\", line 1031, in sum\n",
      "    return self.mapPartitions(lambda x: [sum(x)]).fold(0, operator.add)\n",
      "  File \"/etc/datascience/build/spark-2.1.1-bin-hadoop2.7/python/lib/pyspark.zip/pyspark/rdd.py\", line 905, in fold\n",
      "    vals = self.mapPartitions(func).collect()\n",
      "  File \"/etc/datascience/build/spark-2.1.1-bin-hadoop2.7/python/lib/pyspark.zip/pyspark/rdd.py\", line 808, in collect\n",
      "    port = self.ctx._jvm.PythonRDD.collectAndServe(self._jrdd.rdd())\n",
      "  File \"/etc/datascience/build/spark-2.1.1-bin-hadoop2.7/python/lib/py4j-0.10.4-src.zip/py4j/java_gateway.py\", line 1133, in __call__\n",
      "    answer, self.gateway_client, self.target_id, self.name)\n",
      "  File \"/etc/datascience/build/spark-2.1.1-bin-hadoop2.7/python/lib/pyspark.zip/pyspark/sql/utils.py\", line 63, in deco\n",
      "    return f(*a, **kw)\n",
      "  File \"/etc/datascience/build/spark-2.1.1-bin-hadoop2.7/python/lib/py4j-0.10.4-src.zip/py4j/protocol.py\", line 319, in get_return_value\n",
      "    format(target_id, \".\", name), value)\n",
      "Py4JJavaError: An error occurred while calling z:org.apache.spark.api.python.PythonRDD.collectAndServe.\n",
      ": org.apache.spark.SparkException: Job aborted due to stage failure: Task 0 in stage 0.0 failed 1 times, most recent failure: Lost task 0.0 in stage 0.0 (TID 0, localhost, executor driver): org.apache.spark.api.python.PythonException: Traceback (most recent call last):\n",
      "  File \"/etc/datascience/build/spark-2.1.1-bin-hadoop2.7/python/lib/pyspark.zip/pyspark/worker.py\", line 174, in main\n",
      "    process()\n",
      "  File \"/etc/datascience/build/spark-2.1.1-bin-hadoop2.7/python/lib/pyspark.zip/pyspark/worker.py\", line 169, in process\n",
      "    serializer.dump_stream(func(split_index, iterator), outfile)\n",
      "  File \"/etc/datascience/build/spark-2.1.1-bin-hadoop2.7/python/lib/pyspark.zip/pyspark/rdd.py\", line 2408, in pipeline_func\n",
      "  File \"/etc/datascience/build/spark-2.1.1-bin-hadoop2.7/python/lib/pyspark.zip/pyspark/rdd.py\", line 2408, in pipeline_func\n",
      "  File \"/etc/datascience/build/spark-2.1.1-bin-hadoop2.7/python/lib/pyspark.zip/pyspark/rdd.py\", line 2408, in pipeline_func\n",
      "  File \"/etc/datascience/build/spark-2.1.1-bin-hadoop2.7/python/lib/pyspark.zip/pyspark/rdd.py\", line 345, in func\n",
      "  File \"/etc/datascience/build/spark-2.1.1-bin-hadoop2.7/python/lib/pyspark.zip/pyspark/rdd.py\", line 1040, in <lambda>\n",
      "  File \"/etc/datascience/build/spark-2.1.1-bin-hadoop2.7/python/lib/pyspark.zip/pyspark/rdd.py\", line 1040, in <genexpr>\n",
      "  File \"<stdin>\", line 5, in inside\n",
      "NameError: global name 'random' is not defined\n",
      "\n",
      "\tat org.apache.spark.api.python.PythonRunner$$anon$1.read(PythonRDD.scala:193)\n",
      "\tat org.apache.spark.api.python.PythonRunner$$anon$1.<init>(PythonRDD.scala:234)\n",
      "\tat org.apache.spark.api.python.PythonRunner.compute(PythonRDD.scala:152)\n",
      "\tat org.apache.spark.api.python.PythonRDD.compute(PythonRDD.scala:63)\n",
      "\tat org.apache.spark.rdd.RDD.computeOrReadCheckpoint(RDD.scala:323)\n",
      "\tat org.apache.spark.rdd.RDD.iterator(RDD.scala:287)\n",
      "\tat org.apache.spark.scheduler.ResultTask.runTask(ResultTask.scala:87)\n",
      "\tat org.apache.spark.scheduler.Task.run(Task.scala:99)\n",
      "\tat org.apache.spark.executor.Executor$TaskRunner.run(Executor.scala:322)\n",
      "\tat java.util.concurrent.ThreadPoolExecutor.runWorker(ThreadPoolExecutor.java:1152)\n",
      "\tat java.util.concurrent.ThreadPoolExecutor$Worker.run(ThreadPoolExecutor.java:622)\n",
      "\tat java.lang.Thread.run(Thread.java:748)\n",
      "\n",
      "Driver stacktrace:\n",
      "\tat org.apache.spark.scheduler.DAGScheduler.org$apache$spark$scheduler$DAGScheduler$$failJobAndIndependentStages(DAGScheduler.scala:1435)\n",
      "\tat org.apache.spark.scheduler.DAGScheduler$$anonfun$abortStage$1.apply(DAGScheduler.scala:1423)\n",
      "\tat org.apache.spark.scheduler.DAGScheduler$$anonfun$abortStage$1.apply(DAGScheduler.scala:1422)\n",
      "\tat scala.collection.mutable.ResizableArray$class.foreach(ResizableArray.scala:59)\n",
      "\tat scala.collection.mutable.ArrayBuffer.foreach(ArrayBuffer.scala:48)\n",
      "\tat org.apache.spark.scheduler.DAGScheduler.abortStage(DAGScheduler.scala:1422)\n",
      "\tat org.apache.spark.scheduler.DAGScheduler$$anonfun$handleTaskSetFailed$1.apply(DAGScheduler.scala:802)\n",
      "\tat org.apache.spark.scheduler.DAGScheduler$$anonfun$handleTaskSetFailed$1.apply(DAGScheduler.scala:802)\n",
      "\tat scala.Option.foreach(Option.scala:257)\n",
      "\tat org.apache.spark.scheduler.DAGScheduler.handleTaskSetFailed(DAGScheduler.scala:802)\n",
      "\tat org.apache.spark.scheduler.DAGSchedulerEventProcessLoop.doOnReceive(DAGScheduler.scala:1650)\n",
      "\tat org.apache.spark.scheduler.DAGSchedulerEventProcessLoop.onReceive(DAGScheduler.scala:1605)\n",
      "\tat org.apache.spark.scheduler.DAGSchedulerEventProcessLoop.onReceive(DAGScheduler.scala:1594)\n",
      "\tat org.apache.spark.util.EventLoop$$anon$1.run(EventLoop.scala:48)\n",
      "\tat org.apache.spark.scheduler.DAGScheduler.runJob(DAGScheduler.scala:628)\n",
      "\tat org.apache.spark.SparkContext.runJob(SparkContext.scala:1925)\n",
      "\tat org.apache.spark.SparkContext.runJob(SparkContext.scala:1938)\n",
      "\tat org.apache.spark.SparkContext.runJob(SparkContext.scala:1951)\n",
      "\tat org.apache.spark.SparkContext.runJob(SparkContext.scala:1965)\n",
      "\tat org.apache.spark.rdd.RDD$$anonfun$collect$1.apply(RDD.scala:936)\n",
      "\tat org.apache.spark.rdd.RDDOperationScope$.withScope(RDDOperationScope.scala:151)\n",
      "\tat org.apache.spark.rdd.RDDOperationScope$.withScope(RDDOperationScope.scala:112)\n",
      "\tat org.apache.spark.rdd.RDD.withScope(RDD.scala:362)\n",
      "\tat org.apache.spark.rdd.RDD.collect(RDD.scala:935)\n",
      "\tat org.apache.spark.api.python.PythonRDD$.collectAndServe(PythonRDD.scala:453)\n",
      "\tat org.apache.spark.api.python.PythonRDD.collectAndServe(PythonRDD.scala)\n",
      "\tat sun.reflect.NativeMethodAccessorImpl.invoke0(Native Method)\n",
      "\tat sun.reflect.NativeMethodAccessorImpl.invoke(NativeMethodAccessorImpl.java:57)\n",
      "\tat sun.reflect.DelegatingMethodAccessorImpl.invoke(DelegatingMethodAccessorImpl.java:43)\n",
      "\tat java.lang.reflect.Method.invoke(Method.java:606)\n",
      "\tat py4j.reflection.MethodInvoker.invoke(MethodInvoker.java:244)\n",
      "\tat py4j.reflection.ReflectionEngine.invoke(ReflectionEngine.java:357)\n",
      "\tat py4j.Gateway.invoke(Gateway.java:280)\n",
      "\tat py4j.commands.AbstractCommand.invokeMethod(AbstractCommand.java:132)\n",
      "\tat py4j.commands.CallCommand.execute(CallCommand.java:79)\n",
      "\tat py4j.GatewayConnection.run(GatewayConnection.java:214)\n",
      "\tat java.lang.Thread.run(Thread.java:748)\n",
      "Caused by: org.apache.spark.api.python.PythonException: Traceback (most recent call last):\n",
      "  File \"/etc/datascience/build/spark-2.1.1-bin-hadoop2.7/python/lib/pyspark.zip/pyspark/worker.py\", line 174, in main\n",
      "    process()\n",
      "  File \"/etc/datascience/build/spark-2.1.1-bin-hadoop2.7/python/lib/pyspark.zip/pyspark/worker.py\", line 169, in process\n",
      "    serializer.dump_stream(func(split_index, iterator), outfile)\n",
      "  File \"/etc/datascience/build/spark-2.1.1-bin-hadoop2.7/python/lib/pyspark.zip/pyspark/rdd.py\", line 2408, in pipeline_func\n",
      "  File \"/etc/datascience/build/spark-2.1.1-bin-hadoop2.7/python/lib/pyspark.zip/pyspark/rdd.py\", line 2408, in pipeline_func\n",
      "  File \"/etc/datascience/build/spark-2.1.1-bin-hadoop2.7/python/lib/pyspark.zip/pyspark/rdd.py\", line 2408, in pipeline_func\n",
      "  File \"/etc/datascience/build/spark-2.1.1-bin-hadoop2.7/python/lib/pyspark.zip/pyspark/rdd.py\", line 345, in func\n",
      "  File \"/etc/datascience/build/spark-2.1.1-bin-hadoop2.7/python/lib/pyspark.zip/pyspark/rdd.py\", line 1040, in <lambda>\n",
      "  File \"/etc/datascience/build/spark-2.1.1-bin-hadoop2.7/python/lib/pyspark.zip/pyspark/rdd.py\", line 1040, in <genexpr>\n",
      "  File \"<stdin>\", line 5, in inside\n",
      "NameError: global name 'random' is not defined\n",
      "\n",
      "\tat org.apache.spark.api.python.PythonRunner$$anon$1.read(PythonRDD.scala:193)\n",
      "\tat org.apache.spark.api.python.PythonRunner$$anon$1.<init>(PythonRDD.scala:234)\n",
      "\tat org.apache.spark.api.python.PythonRunner.compute(PythonRDD.scala:152)\n",
      "\tat org.apache.spark.api.python.PythonRDD.compute(PythonRDD.scala:63)\n",
      "\tat org.apache.spark.rdd.RDD.computeOrReadCheckpoint(RDD.scala:323)\n",
      "\tat org.apache.spark.rdd.RDD.iterator(RDD.scala:287)\n",
      "\tat org.apache.spark.scheduler.ResultTask.runTask(ResultTask.scala:87)\n",
      "\tat org.apache.spark.scheduler.Task.run(Task.scala:99)\n",
      "\tat org.apache.spark.executor.Executor$TaskRunner.run(Executor.scala:322)\n",
      "\tat java.util.concurrent.ThreadPoolExecutor.runWorker(ThreadPoolExecutor.java:1152)\n",
      "\tat java.util.concurrent.ThreadPoolExecutor$Worker.run(ThreadPoolExecutor.java:622)\n",
      "\t... 1 more\n",
      "\n",
      "\n"
     ]
    }
   ],
   "source": [
    "%%spark\n",
    "\n",
    "NUM_SAMPLES = 10000\n",
    "\n",
    "def inside(p):\n",
    "    x, y = random.random(), random.random()\n",
    "    return x*x + y*y < 1\n",
    "\n",
    "count = sc.parallelize(xrange(0, NUM_SAMPLES)) \\\n",
    "             .filter(inside).count()\n",
    "print \"Pi is roughly %f\" % (4.0 * count / NUM_SAMPLES)"
   ]
  }
 ],
 "metadata": {
  "kernelspec": {
   "display_name": "Python 2",
   "language": "python",
   "name": "python2"
  },
  "language_info": {
   "codemirror_mode": {
    "name": "ipython",
    "version": 2
   },
   "file_extension": ".py",
   "mimetype": "text/x-python",
   "name": "python",
   "nbconvert_exporter": "python",
   "pygments_lexer": "ipython2",
   "version": "2.7.9"
  }
 },
 "nbformat": 4,
 "nbformat_minor": 2
}
