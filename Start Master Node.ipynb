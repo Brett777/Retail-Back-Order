{
 "cells": [
  {
   "cell_type": "markdown",
   "metadata": {},
   "source": [
    "# Start Spark "
   ]
  },
  {
   "cell_type": "markdown",
   "metadata": {},
   "source": [
    "### Get current hostname and IP"
   ]
  },
  {
   "cell_type": "code",
   "execution_count": 1,
   "metadata": {},
   "outputs": [
    {
     "name": "stdout",
     "output_type": "stream",
     "text": [
      "Your Computer Name is:48429e98cee3\n",
      "Your Computer IP Address is:172.17.0.20\n"
     ]
    }
   ],
   "source": [
    "import os\n",
    "import socket   \n",
    "hostname=socket.gethostname()   \n",
    "IPAddr=socket.gethostbyname(hostname)   \n",
    "print(\"Your Computer Name is:\"+hostname)   \n",
    "print(\"Your Computer IP Address is:\"+IPAddr) "
   ]
  },
  {
   "cell_type": "markdown",
   "metadata": {},
   "source": [
    "### Start a Master Node"
   ]
  },
  {
   "cell_type": "code",
   "execution_count": 7,
   "metadata": {
    "scrolled": true
   },
   "outputs": [
    {
     "name": "stdout",
     "output_type": "stream",
     "text": [
      "starting org.apache.spark.deploy.master.Master, logging to /etc/datascience/build/spark-2.1.1-bin-hadoop2.7/logs/spark-root-org.apache.spark.deploy.master.Master-1-48429e98cee3.out\r\n"
     ]
    }
   ],
   "source": [
    "os.chdir(\"/etc/datascience/build/spark-2.1.1-bin-hadoop2.7/sbin/\")\n",
    "!sudo ./start-master.sh"
   ]
  },
  {
   "cell_type": "markdown",
   "metadata": {},
   "source": [
    "### Check to make sure it's online"
   ]
  },
  {
   "cell_type": "code",
   "execution_count": 14,
   "metadata": {},
   "outputs": [
    {
     "name": "stdout",
     "output_type": "stream",
     "text": [
      "Spark Command: /usr/lib/jvm/java-7-openjdk-amd64/jre/bin/java -cp /etc/datascience/build/spark-2.1.1-bin-hadoop2.7/conf/:/etc/datascience/build/spark-2.1.1-bin-hadoop2.7/jars/* -Xmx1g -XX:MaxPermSize=256m org.apache.spark.deploy.master.Master --host 48429e98cee3 --port 7077 --webui-port 8080\n",
      "========================================\n",
      "Using Spark's default log4j profile: org/apache/spark/log4j-defaults.properties\n",
      "17/11/22 20:38:02 INFO Master: Started daemon with process name: 400@48429e98cee3\n",
      "17/11/22 20:38:02 INFO SignalUtils: Registered signal handler for TERM\n",
      "17/11/22 20:38:02 INFO SignalUtils: Registered signal handler for HUP\n",
      "17/11/22 20:38:02 INFO SignalUtils: Registered signal handler for INT\n",
      "17/11/22 20:38:02 WARN NativeCodeLoader: Unable to load native-hadoop library for your platform... using builtin-java classes where applicable\n",
      "17/11/22 20:38:02 INFO SecurityManager: Changing view acls to: root\n",
      "17/11/22 20:38:02 INFO SecurityManager: Changing modify acls to: root\n",
      "17/11/22 20:38:02 INFO SecurityManager: Changing view acls groups to: \n",
      "17/11/22 20:38:02 INFO SecurityManager: Changing modify acls groups to: \n",
      "17/11/22 20:38:02 INFO SecurityManager: SecurityManager: authentication disabled; ui acls disabled; users  with view permissions: Set(root); groups with view permissions: Set(); users  with modify permissions: Set(root); groups with modify permissions: Set()\n",
      "17/11/22 20:38:03 INFO Utils: Successfully started service 'sparkMaster' on port 7077.\n",
      "17/11/22 20:38:03 INFO Master: Starting Spark master at spark://48429e98cee3:7077\n",
      "17/11/22 20:38:03 INFO Master: Running Spark version 2.1.1\n",
      "17/11/22 20:38:03 INFO Utils: Successfully started service 'MasterUI' on port 8080.\n",
      "17/11/22 20:38:03 INFO MasterWebUI: Bound MasterWebUI to 0.0.0.0, and started at http://172.17.0.20:8080\n",
      "17/11/22 20:38:04 INFO Utils: Successfully started service on port 6066.\n",
      "17/11/22 20:38:04 INFO StandaloneRestServer: Started REST server for submitting applications on port 6066\n",
      "17/11/22 20:38:04 INFO Master: I have been elected leader! New state: ALIVE\n",
      "\n"
     ]
    }
   ],
   "source": [
    "os.chdir(\"/etc/datascience/build/spark-2.1.1-bin-hadoop2.7/logs/\")\n",
    "log = open(\"spark-root-org.apache.spark.deploy.master.Master-1-48429e98cee3.out\")\n",
    "\n",
    "message = log.read()\n",
    "print(message)\n",
    "log.close()"
   ]
  }
 ],
 "metadata": {
  "kernelspec": {
   "display_name": "Python 2",
   "language": "python",
   "name": "python2"
  },
  "language_info": {
   "codemirror_mode": {
    "name": "ipython",
    "version": 2
   },
   "file_extension": ".py",
   "mimetype": "text/x-python",
   "name": "python",
   "nbconvert_exporter": "python",
   "pygments_lexer": "ipython2",
   "version": "2.7.9"
  }
 },
 "nbformat": 4,
 "nbformat_minor": 2
}
