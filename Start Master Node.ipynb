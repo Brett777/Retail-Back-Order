{
 "cells": [
  {
   "cell_type": "markdown",
   "metadata": {},
   "source": [
    "# Start Spark Master"
   ]
  },
  {
   "cell_type": "markdown",
   "metadata": {},
   "source": [
    "### Get current hostname and IP"
   ]
  },
  {
   "cell_type": "code",
   "execution_count": null,
   "metadata": {},
   "outputs": [],
   "source": [
    "import os\n",
    "import socket   \n",
    "hostname=socket.gethostname()   \n",
    "IPAddr=socket.gethostbyname(hostname)   \n",
    "print(\"Your Computer Name is:\"+hostname)   \n",
    "print(\"Your Computer IP Address is:\"+IPAddr) "
   ]
  },
  {
   "cell_type": "markdown",
   "metadata": {},
   "source": [
    "### Start a Master Node"
   ]
  },
  {
   "cell_type": "code",
   "execution_count": null,
   "metadata": {
    "scrolled": true
   },
   "outputs": [],
   "source": [
    "os.chdir(\"/etc/datascience/build/spark-2.1.1-bin-hadoop2.7/sbin/\")\n",
    "!sudo ./start-master.sh"
   ]
  },
  {
   "cell_type": "markdown",
   "metadata": {},
   "source": [
    "### Check to make sure it's online\n",
    "##### Copy and paste the name of the log file from the cell output above into the open() function below to view the state of the master"
   ]
  },
  {
   "cell_type": "code",
   "execution_count": null,
   "metadata": {},
   "outputs": [],
   "source": [
    "os.chdir(\"/etc/datascience/build/spark-2.1.1-bin-hadoop2.7/logs/\")\n",
    "log = open(\"spark-root-org.apache.spark.deploy.master.Master-1-48429e98cee3.out\")\n",
    "\n",
    "message = log.read()\n",
    "print(message)\n",
    "log.close()"
   ]
  },
  {
   "cell_type": "markdown",
   "metadata": {},
   "source": [
    "### Stop the Slave Node"
   ]
  },
  {
   "cell_type": "code",
   "execution_count": null,
   "metadata": {},
   "outputs": [],
   "source": [
    "os.chdir(\"/etc/datascience/build/spark-2.1.1-bin-hadoop2.7/sbin/\")\n",
    "!sudo ./stop-master.sh"
   ]
  }
 ],
 "metadata": {
  "kernelspec": {
   "display_name": "Python 2",
   "language": "python",
   "name": "python2"
  },
  "language_info": {
   "codemirror_mode": {
    "name": "ipython",
    "version": 2
   },
   "file_extension": ".py",
   "mimetype": "text/x-python",
   "name": "python",
   "nbconvert_exporter": "python",
   "pygments_lexer": "ipython2",
   "version": "2.7.9"
  }
 },
 "nbformat": 4,
 "nbformat_minor": 2
}
